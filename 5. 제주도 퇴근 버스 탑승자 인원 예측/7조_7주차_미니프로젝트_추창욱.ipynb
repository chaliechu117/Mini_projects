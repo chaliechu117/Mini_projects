{
 "cells": [
  {
   "cell_type": "markdown",
   "id": "063cd5e3",
   "metadata": {},
   "source": [
    "# 라이브러리 로드하기"
   ]
  },
  {
   "cell_type": "code",
   "execution_count": 1,
   "id": "5d063e6f",
   "metadata": {},
   "outputs": [],
   "source": [
    "import pandas as pd\n",
    "import numpy as np\n",
    "import seaborn as sns\n",
    "import matplotlib.pyplot as plt"
   ]
  },
  {
   "cell_type": "code",
   "execution_count": 2,
   "id": "8883798b",
   "metadata": {},
   "outputs": [],
   "source": [
    "# 윈도우 : \"Malgun Gothic\"\n",
    "# 맥 : \"AppleGothic\"\n",
    "def get_font_family():\n",
    "    \"\"\"\n",
    "    시스템 환경에 따른 기본 폰트명을 반환하는 함수\n",
    "    \"\"\"\n",
    "    import platform\n",
    "    system_name = platform.system()\n",
    "\n",
    "    if system_name == \"Darwin\" :\n",
    "        font_family = \"AppleGothic\"\n",
    "    elif system_name == \"Windows\":\n",
    "        font_family = \"Malgun Gothic\"\n",
    "    else:\n",
    "        # Linux(colab)\n",
    "        !apt-get install fonts-nanum -qq  > /dev/null\n",
    "        !fc-cache -fv\n",
    "\n",
    "        import matplotlib as mpl\n",
    "        mpl.font_manager._rebuild()\n",
    "        findfont = mpl.font_manager.fontManager.findfont\n",
    "        mpl.font_manager.findfont = findfont\n",
    "        mpl.backends.backend_agg.findfont = findfont\n",
    "        \n",
    "        font_family = \"NanumBarunGothic\"\n",
    "    return font_family\n",
    "\n",
    "# 폰트설정\n",
    "plt.rc(\"font\", family=get_font_family())\n",
    "# 마이너스폰트 설정\n",
    "plt.rc(\"axes\", unicode_minus=False)"
   ]
  },
  {
   "cell_type": "markdown",
   "id": "9340bf17",
   "metadata": {},
   "source": [
    "1. train.csv and test.csv\n",
    "    * id             : 해당 데이터에서의 고유한 ID(train, test와의 중복은 없음)\n",
    "    * date           : 날짜\n",
    "    * bus_route_id   : 노선ID\n",
    "    * in_out         : 시내버스, 시외버스 구분\n",
    "    * station_code   : 해당 승하차 정류소의 ID\n",
    "    * station_name   : 해당 승하차 정류소의 이름\n",
    "    * latitude       : 해당 버스 정류장의 위도 (같은 정류장 이름이어도 버스의 진행 방향에 따라 다를 수 있음)\n",
    "    * longitude      : 해당 버스 정류장의 경도 (같은 정류장 이름이어도 버스의 진행 방향에 따라 다를 수 있음)\n",
    "    * X~Y_ride       : X:00:00부터 X:59:59까지 승차한 인원 수\n",
    "    * X~Y_takeoff    : X:00:00부터 X:59:59까지 하차한 인원 수\n",
    "    * 18~20_ride     : 18:00:00부터 19:59:59까지 승차한 인원 수 (train data에만 존재)"
   ]
  },
  {
   "cell_type": "markdown",
   "id": "7ce31aaf",
   "metadata": {},
   "source": [
    "# 데이터 불러오기"
   ]
  },
  {
   "cell_type": "code",
   "execution_count": 3,
   "id": "63c69751",
   "metadata": {},
   "outputs": [
    {
     "data": {
      "text/plain": [
       "(415423, 21)"
      ]
     },
     "execution_count": 3,
     "metadata": {},
     "output_type": "execute_result"
    }
   ],
   "source": [
    "train=pd.read_csv('data/train.csv')\n",
    "train.shape"
   ]
  },
  {
   "cell_type": "code",
   "execution_count": 4,
   "id": "5a52d9e7",
   "metadata": {
    "scrolled": true
   },
   "outputs": [
    {
     "data": {
      "text/plain": [
       "(228170, 20)"
      ]
     },
     "execution_count": 4,
     "metadata": {},
     "output_type": "execute_result"
    }
   ],
   "source": [
    "test=pd.read_csv('data/test.csv')\n",
    "test.shape"
   ]
  },
  {
   "cell_type": "markdown",
   "id": "2a3dd8be",
   "metadata": {},
   "source": [
    "# 데이터 파악하기"
   ]
  },
  {
   "cell_type": "code",
   "execution_count": 5,
   "id": "15d599bb",
   "metadata": {},
   "outputs": [
    {
     "data": {
      "text/html": [
       "<div>\n",
       "<style scoped>\n",
       "    .dataframe tbody tr th:only-of-type {\n",
       "        vertical-align: middle;\n",
       "    }\n",
       "\n",
       "    .dataframe tbody tr th {\n",
       "        vertical-align: top;\n",
       "    }\n",
       "\n",
       "    .dataframe thead th {\n",
       "        text-align: right;\n",
       "    }\n",
       "</style>\n",
       "<table border=\"1\" class=\"dataframe\">\n",
       "  <thead>\n",
       "    <tr style=\"text-align: right;\">\n",
       "      <th></th>\n",
       "      <th>id</th>\n",
       "      <th>date</th>\n",
       "      <th>bus_route_id</th>\n",
       "      <th>in_out</th>\n",
       "      <th>station_code</th>\n",
       "      <th>station_name</th>\n",
       "      <th>latitude</th>\n",
       "      <th>longitude</th>\n",
       "      <th>6~7_ride</th>\n",
       "      <th>7~8_ride</th>\n",
       "      <th>...</th>\n",
       "      <th>9~10_ride</th>\n",
       "      <th>10~11_ride</th>\n",
       "      <th>11~12_ride</th>\n",
       "      <th>6~7_takeoff</th>\n",
       "      <th>7~8_takeoff</th>\n",
       "      <th>8~9_takeoff</th>\n",
       "      <th>9~10_takeoff</th>\n",
       "      <th>10~11_takeoff</th>\n",
       "      <th>11~12_takeoff</th>\n",
       "      <th>18~20_ride</th>\n",
       "    </tr>\n",
       "  </thead>\n",
       "  <tbody>\n",
       "    <tr>\n",
       "      <th>0</th>\n",
       "      <td>0</td>\n",
       "      <td>2019-09-01</td>\n",
       "      <td>4270000</td>\n",
       "      <td>시외</td>\n",
       "      <td>344</td>\n",
       "      <td>제주썬호텔</td>\n",
       "      <td>33.48990</td>\n",
       "      <td>126.49373</td>\n",
       "      <td>0.0</td>\n",
       "      <td>1.0</td>\n",
       "      <td>...</td>\n",
       "      <td>5.0</td>\n",
       "      <td>2.0</td>\n",
       "      <td>6.0</td>\n",
       "      <td>0.0</td>\n",
       "      <td>0.0</td>\n",
       "      <td>0.0</td>\n",
       "      <td>0.0</td>\n",
       "      <td>0.0</td>\n",
       "      <td>0.0</td>\n",
       "      <td>0.0</td>\n",
       "    </tr>\n",
       "    <tr>\n",
       "      <th>1</th>\n",
       "      <td>1</td>\n",
       "      <td>2019-09-01</td>\n",
       "      <td>4270000</td>\n",
       "      <td>시외</td>\n",
       "      <td>357</td>\n",
       "      <td>한라병원</td>\n",
       "      <td>33.48944</td>\n",
       "      <td>126.48508</td>\n",
       "      <td>1.0</td>\n",
       "      <td>4.0</td>\n",
       "      <td>...</td>\n",
       "      <td>2.0</td>\n",
       "      <td>5.0</td>\n",
       "      <td>6.0</td>\n",
       "      <td>0.0</td>\n",
       "      <td>0.0</td>\n",
       "      <td>0.0</td>\n",
       "      <td>0.0</td>\n",
       "      <td>0.0</td>\n",
       "      <td>0.0</td>\n",
       "      <td>5.0</td>\n",
       "    </tr>\n",
       "    <tr>\n",
       "      <th>2</th>\n",
       "      <td>2</td>\n",
       "      <td>2019-09-01</td>\n",
       "      <td>4270000</td>\n",
       "      <td>시외</td>\n",
       "      <td>432</td>\n",
       "      <td>정존마을</td>\n",
       "      <td>33.48181</td>\n",
       "      <td>126.47352</td>\n",
       "      <td>1.0</td>\n",
       "      <td>1.0</td>\n",
       "      <td>...</td>\n",
       "      <td>2.0</td>\n",
       "      <td>0.0</td>\n",
       "      <td>0.0</td>\n",
       "      <td>0.0</td>\n",
       "      <td>0.0</td>\n",
       "      <td>0.0</td>\n",
       "      <td>0.0</td>\n",
       "      <td>0.0</td>\n",
       "      <td>0.0</td>\n",
       "      <td>2.0</td>\n",
       "    </tr>\n",
       "    <tr>\n",
       "      <th>3</th>\n",
       "      <td>3</td>\n",
       "      <td>2019-09-01</td>\n",
       "      <td>4270000</td>\n",
       "      <td>시내</td>\n",
       "      <td>1579</td>\n",
       "      <td>제주국제공항(600번)</td>\n",
       "      <td>33.50577</td>\n",
       "      <td>126.49252</td>\n",
       "      <td>0.0</td>\n",
       "      <td>17.0</td>\n",
       "      <td>...</td>\n",
       "      <td>26.0</td>\n",
       "      <td>14.0</td>\n",
       "      <td>16.0</td>\n",
       "      <td>0.0</td>\n",
       "      <td>0.0</td>\n",
       "      <td>0.0</td>\n",
       "      <td>0.0</td>\n",
       "      <td>0.0</td>\n",
       "      <td>0.0</td>\n",
       "      <td>53.0</td>\n",
       "    </tr>\n",
       "    <tr>\n",
       "      <th>4</th>\n",
       "      <td>4</td>\n",
       "      <td>2019-09-01</td>\n",
       "      <td>4270000</td>\n",
       "      <td>시내</td>\n",
       "      <td>1646</td>\n",
       "      <td>중문관광단지입구</td>\n",
       "      <td>33.25579</td>\n",
       "      <td>126.41260</td>\n",
       "      <td>0.0</td>\n",
       "      <td>0.0</td>\n",
       "      <td>...</td>\n",
       "      <td>0.0</td>\n",
       "      <td>0.0</td>\n",
       "      <td>0.0</td>\n",
       "      <td>0.0</td>\n",
       "      <td>0.0</td>\n",
       "      <td>0.0</td>\n",
       "      <td>1.0</td>\n",
       "      <td>0.0</td>\n",
       "      <td>0.0</td>\n",
       "      <td>0.0</td>\n",
       "    </tr>\n",
       "  </tbody>\n",
       "</table>\n",
       "<p>5 rows × 21 columns</p>\n",
       "</div>"
      ],
      "text/plain": [
       "   id        date  bus_route_id in_out  station_code  station_name  latitude  \\\n",
       "0   0  2019-09-01       4270000     시외           344         제주썬호텔  33.48990   \n",
       "1   1  2019-09-01       4270000     시외           357          한라병원  33.48944   \n",
       "2   2  2019-09-01       4270000     시외           432          정존마을  33.48181   \n",
       "3   3  2019-09-01       4270000     시내          1579  제주국제공항(600번)  33.50577   \n",
       "4   4  2019-09-01       4270000     시내          1646      중문관광단지입구  33.25579   \n",
       "\n",
       "   longitude  6~7_ride  7~8_ride  ...  9~10_ride  10~11_ride  11~12_ride  \\\n",
       "0  126.49373       0.0       1.0  ...        5.0         2.0         6.0   \n",
       "1  126.48508       1.0       4.0  ...        2.0         5.0         6.0   \n",
       "2  126.47352       1.0       1.0  ...        2.0         0.0         0.0   \n",
       "3  126.49252       0.0      17.0  ...       26.0        14.0        16.0   \n",
       "4  126.41260       0.0       0.0  ...        0.0         0.0         0.0   \n",
       "\n",
       "   6~7_takeoff  7~8_takeoff  8~9_takeoff  9~10_takeoff  10~11_takeoff  \\\n",
       "0          0.0          0.0          0.0           0.0            0.0   \n",
       "1          0.0          0.0          0.0           0.0            0.0   \n",
       "2          0.0          0.0          0.0           0.0            0.0   \n",
       "3          0.0          0.0          0.0           0.0            0.0   \n",
       "4          0.0          0.0          0.0           1.0            0.0   \n",
       "\n",
       "   11~12_takeoff  18~20_ride  \n",
       "0            0.0         0.0  \n",
       "1            0.0         5.0  \n",
       "2            0.0         2.0  \n",
       "3            0.0        53.0  \n",
       "4            0.0         0.0  \n",
       "\n",
       "[5 rows x 21 columns]"
      ]
     },
     "execution_count": 5,
     "metadata": {},
     "output_type": "execute_result"
    }
   ],
   "source": [
    "train.head()"
   ]
  },
  {
   "cell_type": "code",
   "execution_count": 6,
   "id": "963354ee",
   "metadata": {
    "scrolled": true
   },
   "outputs": [
    {
     "data": {
      "text/html": [
       "<div>\n",
       "<style scoped>\n",
       "    .dataframe tbody tr th:only-of-type {\n",
       "        vertical-align: middle;\n",
       "    }\n",
       "\n",
       "    .dataframe tbody tr th {\n",
       "        vertical-align: top;\n",
       "    }\n",
       "\n",
       "    .dataframe thead th {\n",
       "        text-align: right;\n",
       "    }\n",
       "</style>\n",
       "<table border=\"1\" class=\"dataframe\">\n",
       "  <thead>\n",
       "    <tr style=\"text-align: right;\">\n",
       "      <th></th>\n",
       "      <th>id</th>\n",
       "      <th>date</th>\n",
       "      <th>bus_route_id</th>\n",
       "      <th>in_out</th>\n",
       "      <th>station_code</th>\n",
       "      <th>station_name</th>\n",
       "      <th>latitude</th>\n",
       "      <th>longitude</th>\n",
       "      <th>6~7_ride</th>\n",
       "      <th>7~8_ride</th>\n",
       "      <th>8~9_ride</th>\n",
       "      <th>9~10_ride</th>\n",
       "      <th>10~11_ride</th>\n",
       "      <th>11~12_ride</th>\n",
       "      <th>6~7_takeoff</th>\n",
       "      <th>7~8_takeoff</th>\n",
       "      <th>8~9_takeoff</th>\n",
       "      <th>9~10_takeoff</th>\n",
       "      <th>10~11_takeoff</th>\n",
       "      <th>11~12_takeoff</th>\n",
       "    </tr>\n",
       "  </thead>\n",
       "  <tbody>\n",
       "    <tr>\n",
       "      <th>0</th>\n",
       "      <td>415423</td>\n",
       "      <td>2019-10-01</td>\n",
       "      <td>4270000</td>\n",
       "      <td>시외</td>\n",
       "      <td>344</td>\n",
       "      <td>제주썬호텔</td>\n",
       "      <td>33.48990</td>\n",
       "      <td>126.49373</td>\n",
       "      <td>4.0</td>\n",
       "      <td>4.0</td>\n",
       "      <td>7.0</td>\n",
       "      <td>2.0</td>\n",
       "      <td>9.0</td>\n",
       "      <td>1.0</td>\n",
       "      <td>0.0</td>\n",
       "      <td>0.0</td>\n",
       "      <td>0.0</td>\n",
       "      <td>0.0</td>\n",
       "      <td>0.0</td>\n",
       "      <td>1.0</td>\n",
       "    </tr>\n",
       "    <tr>\n",
       "      <th>1</th>\n",
       "      <td>415424</td>\n",
       "      <td>2019-10-01</td>\n",
       "      <td>4270000</td>\n",
       "      <td>시외</td>\n",
       "      <td>357</td>\n",
       "      <td>한라병원</td>\n",
       "      <td>33.48944</td>\n",
       "      <td>126.48508</td>\n",
       "      <td>1.0</td>\n",
       "      <td>6.0</td>\n",
       "      <td>6.0</td>\n",
       "      <td>1.0</td>\n",
       "      <td>8.0</td>\n",
       "      <td>11.0</td>\n",
       "      <td>0.0</td>\n",
       "      <td>0.0</td>\n",
       "      <td>0.0</td>\n",
       "      <td>0.0</td>\n",
       "      <td>0.0</td>\n",
       "      <td>0.0</td>\n",
       "    </tr>\n",
       "    <tr>\n",
       "      <th>2</th>\n",
       "      <td>415425</td>\n",
       "      <td>2019-10-01</td>\n",
       "      <td>4270000</td>\n",
       "      <td>시외</td>\n",
       "      <td>432</td>\n",
       "      <td>정존마을</td>\n",
       "      <td>33.48181</td>\n",
       "      <td>126.47352</td>\n",
       "      <td>2.0</td>\n",
       "      <td>4.0</td>\n",
       "      <td>2.0</td>\n",
       "      <td>2.0</td>\n",
       "      <td>2.0</td>\n",
       "      <td>1.0</td>\n",
       "      <td>0.0</td>\n",
       "      <td>0.0</td>\n",
       "      <td>0.0</td>\n",
       "      <td>0.0</td>\n",
       "      <td>0.0</td>\n",
       "      <td>0.0</td>\n",
       "    </tr>\n",
       "    <tr>\n",
       "      <th>3</th>\n",
       "      <td>415426</td>\n",
       "      <td>2019-10-01</td>\n",
       "      <td>4270000</td>\n",
       "      <td>시내</td>\n",
       "      <td>1579</td>\n",
       "      <td>제주국제공항(600번)</td>\n",
       "      <td>33.50577</td>\n",
       "      <td>126.49252</td>\n",
       "      <td>1.0</td>\n",
       "      <td>11.0</td>\n",
       "      <td>18.0</td>\n",
       "      <td>8.0</td>\n",
       "      <td>26.0</td>\n",
       "      <td>20.0</td>\n",
       "      <td>0.0</td>\n",
       "      <td>0.0</td>\n",
       "      <td>0.0</td>\n",
       "      <td>0.0</td>\n",
       "      <td>0.0</td>\n",
       "      <td>0.0</td>\n",
       "    </tr>\n",
       "    <tr>\n",
       "      <th>4</th>\n",
       "      <td>415427</td>\n",
       "      <td>2019-10-01</td>\n",
       "      <td>4270000</td>\n",
       "      <td>시내</td>\n",
       "      <td>1636</td>\n",
       "      <td>롯데호텔</td>\n",
       "      <td>33.24872</td>\n",
       "      <td>126.41032</td>\n",
       "      <td>0.0</td>\n",
       "      <td>0.0</td>\n",
       "      <td>0.0</td>\n",
       "      <td>0.0</td>\n",
       "      <td>0.0</td>\n",
       "      <td>0.0</td>\n",
       "      <td>0.0</td>\n",
       "      <td>0.0</td>\n",
       "      <td>0.0</td>\n",
       "      <td>1.0</td>\n",
       "      <td>0.0</td>\n",
       "      <td>0.0</td>\n",
       "    </tr>\n",
       "  </tbody>\n",
       "</table>\n",
       "</div>"
      ],
      "text/plain": [
       "       id        date  bus_route_id in_out  station_code  station_name  \\\n",
       "0  415423  2019-10-01       4270000     시외           344         제주썬호텔   \n",
       "1  415424  2019-10-01       4270000     시외           357          한라병원   \n",
       "2  415425  2019-10-01       4270000     시외           432          정존마을   \n",
       "3  415426  2019-10-01       4270000     시내          1579  제주국제공항(600번)   \n",
       "4  415427  2019-10-01       4270000     시내          1636          롯데호텔   \n",
       "\n",
       "   latitude  longitude  6~7_ride  7~8_ride  8~9_ride  9~10_ride  10~11_ride  \\\n",
       "0  33.48990  126.49373       4.0       4.0       7.0        2.0         9.0   \n",
       "1  33.48944  126.48508       1.0       6.0       6.0        1.0         8.0   \n",
       "2  33.48181  126.47352       2.0       4.0       2.0        2.0         2.0   \n",
       "3  33.50577  126.49252       1.0      11.0      18.0        8.0        26.0   \n",
       "4  33.24872  126.41032       0.0       0.0       0.0        0.0         0.0   \n",
       "\n",
       "   11~12_ride  6~7_takeoff  7~8_takeoff  8~9_takeoff  9~10_takeoff  \\\n",
       "0         1.0          0.0          0.0          0.0           0.0   \n",
       "1        11.0          0.0          0.0          0.0           0.0   \n",
       "2         1.0          0.0          0.0          0.0           0.0   \n",
       "3        20.0          0.0          0.0          0.0           0.0   \n",
       "4         0.0          0.0          0.0          0.0           1.0   \n",
       "\n",
       "   10~11_takeoff  11~12_takeoff  \n",
       "0            0.0            1.0  \n",
       "1            0.0            0.0  \n",
       "2            0.0            0.0  \n",
       "3            0.0            0.0  \n",
       "4            0.0            0.0  "
      ]
     },
     "execution_count": 6,
     "metadata": {},
     "output_type": "execute_result"
    }
   ],
   "source": [
    "test.head()"
   ]
  },
  {
   "cell_type": "code",
   "execution_count": 7,
   "id": "389a631c",
   "metadata": {},
   "outputs": [
    {
     "name": "stdout",
     "output_type": "stream",
     "text": [
      "<class 'pandas.core.frame.DataFrame'>\n",
      "RangeIndex: 415423 entries, 0 to 415422\n",
      "Data columns (total 21 columns):\n",
      " #   Column         Non-Null Count   Dtype  \n",
      "---  ------         --------------   -----  \n",
      " 0   id             415423 non-null  int64  \n",
      " 1   date           415423 non-null  object \n",
      " 2   bus_route_id   415423 non-null  int64  \n",
      " 3   in_out         415423 non-null  object \n",
      " 4   station_code   415423 non-null  int64  \n",
      " 5   station_name   415423 non-null  object \n",
      " 6   latitude       415423 non-null  float64\n",
      " 7   longitude      415423 non-null  float64\n",
      " 8   6~7_ride       415423 non-null  float64\n",
      " 9   7~8_ride       415423 non-null  float64\n",
      " 10  8~9_ride       415423 non-null  float64\n",
      " 11  9~10_ride      415423 non-null  float64\n",
      " 12  10~11_ride     415423 non-null  float64\n",
      " 13  11~12_ride     415423 non-null  float64\n",
      " 14  6~7_takeoff    415423 non-null  float64\n",
      " 15  7~8_takeoff    415423 non-null  float64\n",
      " 16  8~9_takeoff    415423 non-null  float64\n",
      " 17  9~10_takeoff   415423 non-null  float64\n",
      " 18  10~11_takeoff  415423 non-null  float64\n",
      " 19  11~12_takeoff  415423 non-null  float64\n",
      " 20  18~20_ride     415423 non-null  float64\n",
      "dtypes: float64(15), int64(3), object(3)\n",
      "memory usage: 66.6+ MB\n"
     ]
    }
   ],
   "source": [
    "train.info()"
   ]
  },
  {
   "cell_type": "code",
   "execution_count": 8,
   "id": "fcaa9d46",
   "metadata": {
    "scrolled": false
   },
   "outputs": [
    {
     "name": "stdout",
     "output_type": "stream",
     "text": [
      "<class 'pandas.core.frame.DataFrame'>\n",
      "RangeIndex: 228170 entries, 0 to 228169\n",
      "Data columns (total 20 columns):\n",
      " #   Column         Non-Null Count   Dtype  \n",
      "---  ------         --------------   -----  \n",
      " 0   id             228170 non-null  int64  \n",
      " 1   date           228170 non-null  object \n",
      " 2   bus_route_id   228170 non-null  int64  \n",
      " 3   in_out         228170 non-null  object \n",
      " 4   station_code   228170 non-null  int64  \n",
      " 5   station_name   228170 non-null  object \n",
      " 6   latitude       228170 non-null  float64\n",
      " 7   longitude      228170 non-null  float64\n",
      " 8   6~7_ride       228170 non-null  float64\n",
      " 9   7~8_ride       228170 non-null  float64\n",
      " 10  8~9_ride       228170 non-null  float64\n",
      " 11  9~10_ride      228170 non-null  float64\n",
      " 12  10~11_ride     228170 non-null  float64\n",
      " 13  11~12_ride     228170 non-null  float64\n",
      " 14  6~7_takeoff    228170 non-null  float64\n",
      " 15  7~8_takeoff    228170 non-null  float64\n",
      " 16  8~9_takeoff    228170 non-null  float64\n",
      " 17  9~10_takeoff   228170 non-null  float64\n",
      " 18  10~11_takeoff  228170 non-null  float64\n",
      " 19  11~12_takeoff  228170 non-null  float64\n",
      "dtypes: float64(14), int64(3), object(3)\n",
      "memory usage: 34.8+ MB\n"
     ]
    }
   ],
   "source": [
    "test.info()"
   ]
  },
  {
   "cell_type": "markdown",
   "id": "7f808710",
   "metadata": {},
   "source": [
    "* train과 test의 칼럼 갯수가 다르다.\n",
    "* train의 18~20_ride 칼럼이 우리의 타겟 변수임"
   ]
  },
  {
   "cell_type": "markdown",
   "id": "e7f551d0",
   "metadata": {},
   "source": [
    "## 히스토그램 파악하기"
   ]
  },
  {
   "cell_type": "code",
   "execution_count": 9,
   "id": "f4b07bf8",
   "metadata": {
    "scrolled": false
   },
   "outputs": [
    {
     "data": {
      "image/png": "[encoded data removed]",
      "text/plain": [
       "<Figure size 1440x1440 with 20 Axes>"
      ]
     },
     "metadata": {
      "needs_background": "light"
     },
     "output_type": "display_data"
    }
   ],
   "source": [
    "_=train.hist(figsize=(20,20), bins=10)"
   ]
  },
  {
   "cell_type": "markdown",
   "id": "c3b46190",
   "metadata": {},
   "source": [
    "* id는 완벽히 개별적인 정보로 없어도 상관 없을 거 같다.\n",
    "* 거의 대부분의 분포가 한쪽에 쏠려 있다."
   ]
  },
  {
   "cell_type": "code",
   "execution_count": 10,
   "id": "d4b0bce7",
   "metadata": {},
   "outputs": [
    {
     "data": {
      "text/plain": [
       "id               0\n",
       "date             0\n",
       "bus_route_id     0\n",
       "in_out           0\n",
       "station_code     0\n",
       "station_name     0\n",
       "latitude         0\n",
       "longitude        0\n",
       "6~7_ride         0\n",
       "7~8_ride         0\n",
       "8~9_ride         0\n",
       "9~10_ride        0\n",
       "10~11_ride       0\n",
       "11~12_ride       0\n",
       "6~7_takeoff      0\n",
       "7~8_takeoff      0\n",
       "8~9_takeoff      0\n",
       "9~10_takeoff     0\n",
       "10~11_takeoff    0\n",
       "11~12_takeoff    0\n",
       "18~20_ride       0\n",
       "dtype: int64"
      ]
     },
     "execution_count": 10,
     "metadata": {},
     "output_type": "execute_result"
    }
   ],
   "source": [
    "train.isnull().sum()"
   ]
  },
  {
   "cell_type": "code",
   "execution_count": 11,
   "id": "04a2926b",
   "metadata": {},
   "outputs": [
    {
     "data": {
      "text/plain": [
       "id               0\n",
       "date             0\n",
       "bus_route_id     0\n",
       "in_out           0\n",
       "station_code     0\n",
       "station_name     0\n",
       "latitude         0\n",
       "longitude        0\n",
       "6~7_ride         0\n",
       "7~8_ride         0\n",
       "8~9_ride         0\n",
       "9~10_ride        0\n",
       "10~11_ride       0\n",
       "11~12_ride       0\n",
       "6~7_takeoff      0\n",
       "7~8_takeoff      0\n",
       "8~9_takeoff      0\n",
       "9~10_takeoff     0\n",
       "10~11_takeoff    0\n",
       "11~12_takeoff    0\n",
       "dtype: int64"
      ]
     },
     "execution_count": 11,
     "metadata": {},
     "output_type": "execute_result"
    }
   ],
   "source": [
    "test.isnull().sum()"
   ]
  },
  {
   "cell_type": "markdown",
   "id": "b1cecce6",
   "metadata": {},
   "source": [
    "* 그나마 다행으로 결측치는 없다"
   ]
  },
  {
   "cell_type": "code",
   "execution_count": 12,
   "id": "c3a55b24",
   "metadata": {},
   "outputs": [
    {
     "data": {
      "text/plain": [
       "<AxesSubplot:>"
      ]
     },
     "execution_count": 12,
     "metadata": {},
     "output_type": "execute_result"
    },
    {
     "data": {
      "image/png": "[encoded data removed]",
      "text/plain": [
       "<Figure size 1080x1080 with 2 Axes>"
      ]
     },
     "metadata": {
      "needs_background": "light"
     },
     "output_type": "display_data"
    }
   ],
   "source": [
    "plt.figure(figsize=(15,15))\n",
    "sns.heatmap(data = train.corr(), annot=True, \n",
    "fmt = '.2f', linewidths=.5, cmap='Blues')"
   ]
  },
  {
   "cell_type": "markdown",
   "id": "93045847",
   "metadata": {},
   "source": [
    "* 또 다른 다행인점으로는 확실히 18~20에 영향을 끼치는 변수들이 은근 있어보인다는 점이다."
   ]
  },
  {
   "cell_type": "code",
   "execution_count": 13,
   "id": "c6720f82",
   "metadata": {
    "scrolled": true
   },
   "outputs": [
    {
     "data": {
      "text/html": [
       "<div>\n",
       "<style scoped>\n",
       "    .dataframe tbody tr th:only-of-type {\n",
       "        vertical-align: middle;\n",
       "    }\n",
       "\n",
       "    .dataframe tbody tr th {\n",
       "        vertical-align: top;\n",
       "    }\n",
       "\n",
       "    .dataframe thead th {\n",
       "        text-align: right;\n",
       "    }\n",
       "</style>\n",
       "<table border=\"1\" class=\"dataframe\">\n",
       "  <thead>\n",
       "    <tr style=\"text-align: right;\">\n",
       "      <th></th>\n",
       "      <th>id</th>\n",
       "      <th>bus_route_id</th>\n",
       "      <th>station_code</th>\n",
       "      <th>latitude</th>\n",
       "      <th>longitude</th>\n",
       "      <th>6~7_ride</th>\n",
       "      <th>7~8_ride</th>\n",
       "      <th>8~9_ride</th>\n",
       "      <th>9~10_ride</th>\n",
       "      <th>10~11_ride</th>\n",
       "      <th>11~12_ride</th>\n",
       "      <th>6~7_takeoff</th>\n",
       "      <th>7~8_takeoff</th>\n",
       "      <th>8~9_takeoff</th>\n",
       "      <th>9~10_takeoff</th>\n",
       "      <th>10~11_takeoff</th>\n",
       "      <th>11~12_takeoff</th>\n",
       "      <th>18~20_ride</th>\n",
       "    </tr>\n",
       "  </thead>\n",
       "  <tbody>\n",
       "    <tr>\n",
       "      <th>count</th>\n",
       "      <td>415423.000000</td>\n",
       "      <td>4.154230e+05</td>\n",
       "      <td>4.154230e+05</td>\n",
       "      <td>415423.000000</td>\n",
       "      <td>415423.000000</td>\n",
       "      <td>415423.000000</td>\n",
       "      <td>415423.000000</td>\n",
       "      <td>415423.000000</td>\n",
       "      <td>415423.000000</td>\n",
       "      <td>415423.000000</td>\n",
       "      <td>415423.000000</td>\n",
       "      <td>415423.000000</td>\n",
       "      <td>415423.000000</td>\n",
       "      <td>415423.000000</td>\n",
       "      <td>415423.000000</td>\n",
       "      <td>415423.000000</td>\n",
       "      <td>415423.000000</td>\n",
       "      <td>415423.000000</td>\n",
       "    </tr>\n",
       "    <tr>\n",
       "      <th>mean</th>\n",
       "      <td>207711.000000</td>\n",
       "      <td>2.691935e+07</td>\n",
       "      <td>4.209311e+04</td>\n",
       "      <td>33.420375</td>\n",
       "      <td>126.533574</td>\n",
       "      <td>0.305893</td>\n",
       "      <td>0.829699</td>\n",
       "      <td>0.815350</td>\n",
       "      <td>0.642475</td>\n",
       "      <td>0.599618</td>\n",
       "      <td>0.579393</td>\n",
       "      <td>0.112870</td>\n",
       "      <td>0.344870</td>\n",
       "      <td>0.516481</td>\n",
       "      <td>0.430922</td>\n",
       "      <td>0.408001</td>\n",
       "      <td>0.402874</td>\n",
       "      <td>1.242095</td>\n",
       "    </tr>\n",
       "    <tr>\n",
       "      <th>std</th>\n",
       "      <td>119922.434776</td>\n",
       "      <td>3.924652e+06</td>\n",
       "      <td>4.971504e+05</td>\n",
       "      <td>0.107996</td>\n",
       "      <td>0.140986</td>\n",
       "      <td>1.109766</td>\n",
       "      <td>2.255116</td>\n",
       "      <td>2.317561</td>\n",
       "      <td>1.959844</td>\n",
       "      <td>1.885941</td>\n",
       "      <td>1.942137</td>\n",
       "      <td>0.597714</td>\n",
       "      <td>1.279179</td>\n",
       "      <td>1.658850</td>\n",
       "      <td>1.485124</td>\n",
       "      <td>1.412839</td>\n",
       "      <td>1.446080</td>\n",
       "      <td>4.722287</td>\n",
       "    </tr>\n",
       "    <tr>\n",
       "      <th>min</th>\n",
       "      <td>0.000000</td>\n",
       "      <td>4.270000e+06</td>\n",
       "      <td>1.000000e+00</td>\n",
       "      <td>33.208350</td>\n",
       "      <td>126.165040</td>\n",
       "      <td>0.000000</td>\n",
       "      <td>0.000000</td>\n",
       "      <td>0.000000</td>\n",
       "      <td>0.000000</td>\n",
       "      <td>0.000000</td>\n",
       "      <td>0.000000</td>\n",
       "      <td>0.000000</td>\n",
       "      <td>0.000000</td>\n",
       "      <td>0.000000</td>\n",
       "      <td>0.000000</td>\n",
       "      <td>0.000000</td>\n",
       "      <td>0.000000</td>\n",
       "      <td>0.000000</td>\n",
       "    </tr>\n",
       "    <tr>\n",
       "      <th>25%</th>\n",
       "      <td>103855.500000</td>\n",
       "      <td>2.346000e+07</td>\n",
       "      <td>3.200000e+02</td>\n",
       "      <td>33.291080</td>\n",
       "      <td>126.475780</td>\n",
       "      <td>0.000000</td>\n",
       "      <td>0.000000</td>\n",
       "      <td>0.000000</td>\n",
       "      <td>0.000000</td>\n",
       "      <td>0.000000</td>\n",
       "      <td>0.000000</td>\n",
       "      <td>0.000000</td>\n",
       "      <td>0.000000</td>\n",
       "      <td>0.000000</td>\n",
       "      <td>0.000000</td>\n",
       "      <td>0.000000</td>\n",
       "      <td>0.000000</td>\n",
       "      <td>0.000000</td>\n",
       "    </tr>\n",
       "    <tr>\n",
       "      <th>50%</th>\n",
       "      <td>207711.000000</td>\n",
       "      <td>2.803000e+07</td>\n",
       "      <td>1.130000e+03</td>\n",
       "      <td>33.478850</td>\n",
       "      <td>126.529770</td>\n",
       "      <td>0.000000</td>\n",
       "      <td>0.000000</td>\n",
       "      <td>0.000000</td>\n",
       "      <td>0.000000</td>\n",
       "      <td>0.000000</td>\n",
       "      <td>0.000000</td>\n",
       "      <td>0.000000</td>\n",
       "      <td>0.000000</td>\n",
       "      <td>0.000000</td>\n",
       "      <td>0.000000</td>\n",
       "      <td>0.000000</td>\n",
       "      <td>0.000000</td>\n",
       "      <td>0.000000</td>\n",
       "    </tr>\n",
       "    <tr>\n",
       "      <th>75%</th>\n",
       "      <td>311566.500000</td>\n",
       "      <td>3.003000e+07</td>\n",
       "      <td>2.226000e+03</td>\n",
       "      <td>33.500020</td>\n",
       "      <td>126.575890</td>\n",
       "      <td>0.000000</td>\n",
       "      <td>1.000000</td>\n",
       "      <td>1.000000</td>\n",
       "      <td>1.000000</td>\n",
       "      <td>0.000000</td>\n",
       "      <td>0.000000</td>\n",
       "      <td>0.000000</td>\n",
       "      <td>0.000000</td>\n",
       "      <td>0.000000</td>\n",
       "      <td>0.000000</td>\n",
       "      <td>0.000000</td>\n",
       "      <td>0.000000</td>\n",
       "      <td>1.000000</td>\n",
       "    </tr>\n",
       "    <tr>\n",
       "      <th>max</th>\n",
       "      <td>415422.000000</td>\n",
       "      <td>3.282000e+07</td>\n",
       "      <td>6.115101e+06</td>\n",
       "      <td>33.963640</td>\n",
       "      <td>126.965670</td>\n",
       "      <td>85.000000</td>\n",
       "      <td>94.000000</td>\n",
       "      <td>136.000000</td>\n",
       "      <td>78.000000</td>\n",
       "      <td>124.000000</td>\n",
       "      <td>99.000000</td>\n",
       "      <td>45.000000</td>\n",
       "      <td>66.000000</td>\n",
       "      <td>59.000000</td>\n",
       "      <td>65.000000</td>\n",
       "      <td>52.000000</td>\n",
       "      <td>81.000000</td>\n",
       "      <td>272.000000</td>\n",
       "    </tr>\n",
       "  </tbody>\n",
       "</table>\n",
       "</div>"
      ],
      "text/plain": [
       "                  id  bus_route_id  station_code       latitude  \\\n",
       "count  415423.000000  4.154230e+05  4.154230e+05  415423.000000   \n",
       "mean   207711.000000  2.691935e+07  4.209311e+04      33.420375   \n",
       "std    119922.434776  3.924652e+06  4.971504e+05       0.107996   \n",
       "min         0.000000  4.270000e+06  1.000000e+00      33.208350   \n",
       "25%    103855.500000  2.346000e+07  3.200000e+02      33.291080   \n",
       "50%    207711.000000  2.803000e+07  1.130000e+03      33.478850   \n",
       "75%    311566.500000  3.003000e+07  2.226000e+03      33.500020   \n",
       "max    415422.000000  3.282000e+07  6.115101e+06      33.963640   \n",
       "\n",
       "           longitude       6~7_ride       7~8_ride       8~9_ride  \\\n",
       "count  415423.000000  415423.000000  415423.000000  415423.000000   \n",
       "mean      126.533574       0.305893       0.829699       0.815350   \n",
       "std         0.140986       1.109766       2.255116       2.317561   \n",
       "min       126.165040       0.000000       0.000000       0.000000   \n",
       "25%       126.475780       0.000000       0.000000       0.000000   \n",
       "50%       126.529770       0.000000       0.000000       0.000000   \n",
       "75%       126.575890       0.000000       1.000000       1.000000   \n",
       "max       126.965670      85.000000      94.000000     136.000000   \n",
       "\n",
       "           9~10_ride     10~11_ride     11~12_ride    6~7_takeoff  \\\n",
       "count  415423.000000  415423.000000  415423.000000  415423.000000   \n",
       "mean        0.642475       0.599618       0.579393       0.112870   \n",
       "std         1.959844       1.885941       1.942137       0.597714   \n",
       "min         0.000000       0.000000       0.000000       0.000000   \n",
       "25%         0.000000       0.000000       0.000000       0.000000   \n",
       "50%         0.000000       0.000000       0.000000       0.000000   \n",
       "75%         1.000000       0.000000       0.000000       0.000000   \n",
       "max        78.000000     124.000000      99.000000      45.000000   \n",
       "\n",
       "         7~8_takeoff    8~9_takeoff   9~10_takeoff  10~11_takeoff  \\\n",
       "count  415423.000000  415423.000000  415423.000000  415423.000000   \n",
       "mean        0.344870       0.516481       0.430922       0.408001   \n",
       "std         1.279179       1.658850       1.485124       1.412839   \n",
       "min         0.000000       0.000000       0.000000       0.000000   \n",
       "25%         0.000000       0.000000       0.000000       0.000000   \n",
       "50%         0.000000       0.000000       0.000000       0.000000   \n",
       "75%         0.000000       0.000000       0.000000       0.000000   \n",
       "max        66.000000      59.000000      65.000000      52.000000   \n",
       "\n",
       "       11~12_takeoff     18~20_ride  \n",
       "count  415423.000000  415423.000000  \n",
       "mean        0.402874       1.242095  \n",
       "std         1.446080       4.722287  \n",
       "min         0.000000       0.000000  \n",
       "25%         0.000000       0.000000  \n",
       "50%         0.000000       0.000000  \n",
       "75%         0.000000       1.000000  \n",
       "max        81.000000     272.000000  "
      ]
     },
     "execution_count": 13,
     "metadata": {},
     "output_type": "execute_result"
    }
   ],
   "source": [
    "train.describe()"
   ]
  },
  {
   "cell_type": "markdown",
   "id": "1c5440de",
   "metadata": {},
   "source": [
    "* 거의 고정적인 인구가 꾸준히 이용하는 것 같다. max외에 0인 변수들이 꽤나 많다."
   ]
  },
  {
   "cell_type": "code",
   "execution_count": 14,
   "id": "8bab0306",
   "metadata": {
    "scrolled": false
   },
   "outputs": [
    {
     "data": {
      "text/plain": [
       "2019-09-19    16030\n",
       "2019-09-10    16005\n",
       "2019-09-24    15968\n",
       "2019-09-17    15960\n",
       "2019-09-30    15884\n",
       "2019-09-26    15870\n",
       "2019-09-25    15863\n",
       "2019-09-20    15827\n",
       "2019-09-27    15808\n",
       "2019-09-18    15767\n",
       "2019-09-05    15706\n",
       "2019-09-16    15687\n",
       "2019-09-23    15624\n",
       "2019-09-03    15485\n",
       "2019-09-11    15415\n",
       "2019-09-06    15352\n",
       "2019-09-09    15297\n",
       "2019-09-02    14960\n",
       "2019-09-04    14739\n",
       "2019-09-28    13219\n",
       "2019-09-29    12124\n",
       "2019-09-08    11582\n",
       "2019-09-01    11538\n",
       "2019-09-21    11534\n",
       "2019-09-12    11375\n",
       "2019-09-15    11209\n",
       "2019-09-14    10636\n",
       "2019-09-07    10198\n",
       "2019-09-13     8708\n",
       "2019-09-22     6053\n",
       "Name: date, dtype: int64"
      ]
     },
     "execution_count": 14,
     "metadata": {},
     "output_type": "execute_result"
    }
   ],
   "source": [
    "train['date'].value_counts()"
   ]
  },
  {
   "cell_type": "code",
   "execution_count": 15,
   "id": "e6188498",
   "metadata": {
    "scrolled": true
   },
   "outputs": [
    {
     "data": {
      "text/plain": [
       "<AxesSubplot:xlabel='in_out', ylabel='count'>"
      ]
     },
     "execution_count": 15,
     "metadata": {},
     "output_type": "execute_result"
    },
    {
     "data": {
      "image/png": "[encoded data removed]",
      "text/plain": [
       "<Figure size 432x288 with 1 Axes>"
      ]
     },
     "metadata": {
      "needs_background": "light"
     },
     "output_type": "display_data"
    }
   ],
   "source": [
    "sns.countplot(data=train,x='in_out' )"
   ]
  },
  {
   "cell_type": "markdown",
   "id": "d741b64e",
   "metadata": {},
   "source": [
    "* 시내가 압도적으로 많다"
   ]
  },
  {
   "cell_type": "code",
   "execution_count": 16,
   "id": "3bab934f",
   "metadata": {},
   "outputs": [
    {
     "data": {
      "text/plain": [
       "<AxesSubplot:xlabel='bus_route_id', ylabel='count'>"
      ]
     },
     "execution_count": 16,
     "metadata": {},
     "output_type": "execute_result"
    },
    {
     "data": {
      "image/png": "[encoded data removed]",
      "text/plain": [
       "<Figure size 432x288 with 1 Axes>"
      ]
     },
     "metadata": {
      "needs_background": "light"
     },
     "output_type": "display_data"
    }
   ],
   "source": [
    "sns.countplot(data=train,x='bus_route_id' )"
   ]
  },
  {
   "cell_type": "code",
   "execution_count": 17,
   "id": "6b028fd1",
   "metadata": {
    "scrolled": false
   },
   "outputs": [
    {
     "data": {
      "text/plain": [
       "28510000    4393\n",
       "28490000    4346\n",
       "28500000    4207\n",
       "28700000    4082\n",
       "28690000    3892\n",
       "            ... \n",
       "31060000       2\n",
       "21590000       2\n",
       "30080000       2\n",
       "31040000       1\n",
       "28800000       1\n",
       "Name: bus_route_id, Length: 613, dtype: int64"
      ]
     },
     "execution_count": 17,
     "metadata": {},
     "output_type": "execute_result"
    }
   ],
   "source": [
    "train['bus_route_id'].value_counts()"
   ]
  },
  {
   "cell_type": "markdown",
   "id": "2c34589d",
   "metadata": {},
   "source": [
    "* 버스 정류장 아이디, 노선 아이디 등은 분명 id에 나라에서 정한 규칙이 있을 건데 다음과 같다."
   ]
  },
  {
   "attachments": {
    "image.png": {
     "image/png": "[encoded data removed]"
    }
   },
   "cell_type": "markdown",
   "id": "552775b5",
   "metadata": {},
   "source": [
    "![image.png](attachment:image.png)"
   ]
  },
  {
   "cell_type": "code",
   "execution_count": 18,
   "id": "337d9ff6",
   "metadata": {},
   "outputs": [
    {
     "data": {
      "text/plain": [
       "1961"
      ]
     },
     "execution_count": 18,
     "metadata": {},
     "output_type": "execute_result"
    }
   ],
   "source": [
    "train['station_name'].nunique()"
   ]
  },
  {
   "cell_type": "markdown",
   "id": "1e3766b0",
   "metadata": {},
   "source": [
    "* 정류장 이름이 총 1961개가 있다"
   ]
  },
  {
   "cell_type": "markdown",
   "id": "4171fb5b",
   "metadata": {},
   "source": [
    "# 데이터 전처리"
   ]
  },
  {
   "cell_type": "markdown",
   "id": "e3140a4e",
   "metadata": {},
   "source": [
    "* 데이터 프레임 전처리를 위해 하나로 합치기"
   ]
  },
  {
   "cell_type": "code",
   "execution_count": 19,
   "id": "f731b901",
   "metadata": {},
   "outputs": [],
   "source": [
    "df = pd.concat([train, test]).reset_index(drop=True)\n",
    "df[\"date\"] = pd.to_datetime(df[\"date\"])\n",
    "df[\"year\"] = df[\"date\"].dt.year\n",
    "df[\"month\"] = df[\"date\"].dt.month\n",
    "df[\"day\"] = df[\"date\"].dt.day\n",
    "df[\"dayofweek\"] = df[\"date\"].dt.dayofweek"
   ]
  },
  {
   "cell_type": "code",
   "execution_count": 20,
   "id": "c334405b",
   "metadata": {
    "scrolled": true
   },
   "outputs": [
    {
     "data": {
      "text/plain": [
       "(643593, 25)"
      ]
     },
     "execution_count": 20,
     "metadata": {},
     "output_type": "execute_result"
    }
   ],
   "source": [
    "df.shape"
   ]
  },
  {
   "cell_type": "markdown",
   "id": "5cf58c1d",
   "metadata": {},
   "source": [
    "* 필요 없는 칼럼 드랍 시키기, ['id','date','station_name']"
   ]
  },
  {
   "cell_type": "code",
   "execution_count": 21,
   "id": "d4578c70",
   "metadata": {},
   "outputs": [
    {
     "data": {
      "text/plain": [
       "Index(['id', 'date', 'bus_route_id', 'in_out', 'station_code', 'station_name',\n",
       "       'latitude', 'longitude', '6~7_ride', '7~8_ride', '8~9_ride',\n",
       "       '9~10_ride', '10~11_ride', '11~12_ride', '6~7_takeoff', '7~8_takeoff',\n",
       "       '8~9_takeoff', '9~10_takeoff', '10~11_takeoff', '11~12_takeoff',\n",
       "       '18~20_ride', 'year', 'month', 'day', 'dayofweek'],\n",
       "      dtype='object')"
      ]
     },
     "execution_count": 21,
     "metadata": {},
     "output_type": "execute_result"
    }
   ],
   "source": [
    "df.columns"
   ]
  },
  {
   "cell_type": "code",
   "execution_count": 22,
   "id": "7747afcf",
   "metadata": {
    "scrolled": true
   },
   "outputs": [],
   "source": [
    "df=df.drop(['id','date','station_name'], axis=1)"
   ]
  },
  {
   "cell_type": "markdown",
   "id": "a0e37631",
   "metadata": {},
   "source": [
    "* 시내외에 대한 칼럼 더미화 시키기"
   ]
  },
  {
   "cell_type": "code",
   "execution_count": 23,
   "id": "73138ddb",
   "metadata": {},
   "outputs": [],
   "source": [
    "df=pd.get_dummies(df)"
   ]
  },
  {
   "cell_type": "code",
   "execution_count": 24,
   "id": "390115cc",
   "metadata": {},
   "outputs": [
    {
     "data": {
      "text/html": [
       "<div>\n",
       "<style scoped>\n",
       "    .dataframe tbody tr th:only-of-type {\n",
       "        vertical-align: middle;\n",
       "    }\n",
       "\n",
       "    .dataframe tbody tr th {\n",
       "        vertical-align: top;\n",
       "    }\n",
       "\n",
       "    .dataframe thead th {\n",
       "        text-align: right;\n",
       "    }\n",
       "</style>\n",
       "<table border=\"1\" class=\"dataframe\">\n",
       "  <thead>\n",
       "    <tr style=\"text-align: right;\">\n",
       "      <th></th>\n",
       "      <th>bus_route_id</th>\n",
       "      <th>station_code</th>\n",
       "      <th>latitude</th>\n",
       "      <th>longitude</th>\n",
       "      <th>6~7_ride</th>\n",
       "      <th>7~8_ride</th>\n",
       "      <th>8~9_ride</th>\n",
       "      <th>9~10_ride</th>\n",
       "      <th>10~11_ride</th>\n",
       "      <th>11~12_ride</th>\n",
       "      <th>...</th>\n",
       "      <th>9~10_takeoff</th>\n",
       "      <th>10~11_takeoff</th>\n",
       "      <th>11~12_takeoff</th>\n",
       "      <th>18~20_ride</th>\n",
       "      <th>year</th>\n",
       "      <th>month</th>\n",
       "      <th>day</th>\n",
       "      <th>dayofweek</th>\n",
       "      <th>in_out_시내</th>\n",
       "      <th>in_out_시외</th>\n",
       "    </tr>\n",
       "  </thead>\n",
       "  <tbody>\n",
       "    <tr>\n",
       "      <th>0</th>\n",
       "      <td>4270000</td>\n",
       "      <td>344</td>\n",
       "      <td>33.48990</td>\n",
       "      <td>126.49373</td>\n",
       "      <td>0.0</td>\n",
       "      <td>1.0</td>\n",
       "      <td>2.0</td>\n",
       "      <td>5.0</td>\n",
       "      <td>2.0</td>\n",
       "      <td>6.0</td>\n",
       "      <td>...</td>\n",
       "      <td>0.0</td>\n",
       "      <td>0.0</td>\n",
       "      <td>0.0</td>\n",
       "      <td>0.0</td>\n",
       "      <td>2019</td>\n",
       "      <td>9</td>\n",
       "      <td>1</td>\n",
       "      <td>6</td>\n",
       "      <td>0</td>\n",
       "      <td>1</td>\n",
       "    </tr>\n",
       "    <tr>\n",
       "      <th>1</th>\n",
       "      <td>4270000</td>\n",
       "      <td>357</td>\n",
       "      <td>33.48944</td>\n",
       "      <td>126.48508</td>\n",
       "      <td>1.0</td>\n",
       "      <td>4.0</td>\n",
       "      <td>4.0</td>\n",
       "      <td>2.0</td>\n",
       "      <td>5.0</td>\n",
       "      <td>6.0</td>\n",
       "      <td>...</td>\n",
       "      <td>0.0</td>\n",
       "      <td>0.0</td>\n",
       "      <td>0.0</td>\n",
       "      <td>5.0</td>\n",
       "      <td>2019</td>\n",
       "      <td>9</td>\n",
       "      <td>1</td>\n",
       "      <td>6</td>\n",
       "      <td>0</td>\n",
       "      <td>1</td>\n",
       "    </tr>\n",
       "    <tr>\n",
       "      <th>2</th>\n",
       "      <td>4270000</td>\n",
       "      <td>432</td>\n",
       "      <td>33.48181</td>\n",
       "      <td>126.47352</td>\n",
       "      <td>1.0</td>\n",
       "      <td>1.0</td>\n",
       "      <td>0.0</td>\n",
       "      <td>2.0</td>\n",
       "      <td>0.0</td>\n",
       "      <td>0.0</td>\n",
       "      <td>...</td>\n",
       "      <td>0.0</td>\n",
       "      <td>0.0</td>\n",
       "      <td>0.0</td>\n",
       "      <td>2.0</td>\n",
       "      <td>2019</td>\n",
       "      <td>9</td>\n",
       "      <td>1</td>\n",
       "      <td>6</td>\n",
       "      <td>0</td>\n",
       "      <td>1</td>\n",
       "    </tr>\n",
       "    <tr>\n",
       "      <th>3</th>\n",
       "      <td>4270000</td>\n",
       "      <td>1579</td>\n",
       "      <td>33.50577</td>\n",
       "      <td>126.49252</td>\n",
       "      <td>0.0</td>\n",
       "      <td>17.0</td>\n",
       "      <td>6.0</td>\n",
       "      <td>26.0</td>\n",
       "      <td>14.0</td>\n",
       "      <td>16.0</td>\n",
       "      <td>...</td>\n",
       "      <td>0.0</td>\n",
       "      <td>0.0</td>\n",
       "      <td>0.0</td>\n",
       "      <td>53.0</td>\n",
       "      <td>2019</td>\n",
       "      <td>9</td>\n",
       "      <td>1</td>\n",
       "      <td>6</td>\n",
       "      <td>1</td>\n",
       "      <td>0</td>\n",
       "    </tr>\n",
       "    <tr>\n",
       "      <th>4</th>\n",
       "      <td>4270000</td>\n",
       "      <td>1646</td>\n",
       "      <td>33.25579</td>\n",
       "      <td>126.41260</td>\n",
       "      <td>0.0</td>\n",
       "      <td>0.0</td>\n",
       "      <td>0.0</td>\n",
       "      <td>0.0</td>\n",
       "      <td>0.0</td>\n",
       "      <td>0.0</td>\n",
       "      <td>...</td>\n",
       "      <td>1.0</td>\n",
       "      <td>0.0</td>\n",
       "      <td>0.0</td>\n",
       "      <td>0.0</td>\n",
       "      <td>2019</td>\n",
       "      <td>9</td>\n",
       "      <td>1</td>\n",
       "      <td>6</td>\n",
       "      <td>1</td>\n",
       "      <td>0</td>\n",
       "    </tr>\n",
       "  </tbody>\n",
       "</table>\n",
       "<p>5 rows × 23 columns</p>\n",
       "</div>"
      ],
      "text/plain": [
       "   bus_route_id  station_code  latitude  longitude  6~7_ride  7~8_ride  \\\n",
       "0       4270000           344  33.48990  126.49373       0.0       1.0   \n",
       "1       4270000           357  33.48944  126.48508       1.0       4.0   \n",
       "2       4270000           432  33.48181  126.47352       1.0       1.0   \n",
       "3       4270000          1579  33.50577  126.49252       0.0      17.0   \n",
       "4       4270000          1646  33.25579  126.41260       0.0       0.0   \n",
       "\n",
       "   8~9_ride  9~10_ride  10~11_ride  11~12_ride  ...  9~10_takeoff  \\\n",
       "0       2.0        5.0         2.0         6.0  ...           0.0   \n",
       "1       4.0        2.0         5.0         6.0  ...           0.0   \n",
       "2       0.0        2.0         0.0         0.0  ...           0.0   \n",
       "3       6.0       26.0        14.0        16.0  ...           0.0   \n",
       "4       0.0        0.0         0.0         0.0  ...           1.0   \n",
       "\n",
       "   10~11_takeoff  11~12_takeoff  18~20_ride  year  month  day  dayofweek  \\\n",
       "0            0.0            0.0         0.0  2019      9    1          6   \n",
       "1            0.0            0.0         5.0  2019      9    1          6   \n",
       "2            0.0            0.0         2.0  2019      9    1          6   \n",
       "3            0.0            0.0        53.0  2019      9    1          6   \n",
       "4            0.0            0.0         0.0  2019      9    1          6   \n",
       "\n",
       "   in_out_시내  in_out_시외  \n",
       "0          0          1  \n",
       "1          0          1  \n",
       "2          0          1  \n",
       "3          1          0  \n",
       "4          1          0  \n",
       "\n",
       "[5 rows x 23 columns]"
      ]
     },
     "execution_count": 24,
     "metadata": {},
     "output_type": "execute_result"
    }
   ],
   "source": [
    "df.head()"
   ]
  },
  {
   "cell_type": "markdown",
   "id": "1a76c554",
   "metadata": {},
   "source": [
    "버스 노선에 대한 아이디 분리하기\n",
    "- 앞에 세개는 권역 번호\n",
    "- 4번째는 수단번호\n",
    "- 뒤는 일련번호"
   ]
  },
  {
   "cell_type": "code",
   "execution_count": 25,
   "id": "7925717d",
   "metadata": {},
   "outputs": [
    {
     "data": {
      "text/plain": [
       "'0'"
      ]
     },
     "execution_count": 25,
     "metadata": {},
     "output_type": "execute_result"
    }
   ],
   "source": [
    "a=df['bus_route_id'][1]\n",
    "str(a)[:3]\n",
    "str(a)[4]"
   ]
  },
  {
   "cell_type": "code",
   "execution_count": 26,
   "id": "7b56f43a",
   "metadata": {},
   "outputs": [],
   "source": [
    "권역번호=[]\n",
    "수단번호=[]\n",
    "일련번호=[]\n",
    "for i in df['bus_route_id']:\n",
    "    권역번호.append(int(str(i)[:3]))\n",
    "    수단번호.append(int(str(i)[4]))\n",
    "    일련번호.append(int(str(i)[4:]))"
   ]
  },
  {
   "cell_type": "code",
   "execution_count": 27,
   "id": "a5b87eb5",
   "metadata": {},
   "outputs": [],
   "source": [
    "df['station_권역번호']=권역번호\n",
    "df['station_수단번호']=수단번호\n",
    "df['station_일련번호']=일련번호"
   ]
  },
  {
   "cell_type": "code",
   "execution_count": 28,
   "id": "7dff6451",
   "metadata": {
    "scrolled": true
   },
   "outputs": [
    {
     "data": {
      "text/plain": [
       "Index(['bus_route_id', 'station_code', 'latitude', 'longitude', '6~7_ride',\n",
       "       '7~8_ride', '8~9_ride', '9~10_ride', '10~11_ride', '11~12_ride',\n",
       "       '6~7_takeoff', '7~8_takeoff', '8~9_takeoff', '9~10_takeoff',\n",
       "       '10~11_takeoff', '11~12_takeoff', '18~20_ride', 'year', 'month', 'day',\n",
       "       'dayofweek', 'in_out_시내', 'in_out_시외', 'station_권역번호', 'station_수단번호',\n",
       "       'station_일련번호'],\n",
       "      dtype='object')"
      ]
     },
     "execution_count": 28,
     "metadata": {},
     "output_type": "execute_result"
    }
   ],
   "source": [
    "df.columns"
   ]
  },
  {
   "cell_type": "code",
   "execution_count": 29,
   "id": "d5c03ab1",
   "metadata": {},
   "outputs": [
    {
     "data": {
      "text/plain": [
       "0    643593\n",
       "Name: station_일련번호, dtype: int64"
      ]
     },
     "execution_count": 29,
     "metadata": {},
     "output_type": "execute_result"
    }
   ],
   "source": [
    "df['station_일련번호'].value_counts()"
   ]
  },
  {
   "cell_type": "markdown",
   "id": "4eff79bd",
   "metadata": {},
   "source": [
    "station 일련번호는 약간 아이디 같은 느낌이라서 데이터에도 없는 듯하다 지워버리자"
   ]
  },
  {
   "cell_type": "code",
   "execution_count": 30,
   "id": "a462a5ee",
   "metadata": {},
   "outputs": [],
   "source": [
    "df=df.drop('station_일련번호', axis=1)"
   ]
  },
  {
   "cell_type": "code",
   "execution_count": 31,
   "id": "35c4cb20",
   "metadata": {},
   "outputs": [],
   "source": [
    "df=df.drop('station_수단번호', axis=1)"
   ]
  },
  {
   "cell_type": "markdown",
   "id": "0fd566e4",
   "metadata": {},
   "source": [
    "## 지역에 관한 데이터를 어떻게 해야 할까??"
   ]
  },
  {
   "cell_type": "markdown",
   "id": "c43a1327",
   "metadata": {},
   "source": [
    "중점으로부터의 거리에 대한 변수를 만들고 경도 위도를 지워주자"
   ]
  },
  {
   "cell_type": "code",
   "execution_count": 32,
   "id": "82ca13dd",
   "metadata": {},
   "outputs": [],
   "source": [
    "lat_mean=df['latitude'].mean()\n",
    "long_mean=df['longitude'].mean()"
   ]
  },
  {
   "cell_type": "code",
   "execution_count": 33,
   "id": "1f8b8c8e",
   "metadata": {},
   "outputs": [
    {
     "data": {
      "text/plain": [
       "float"
      ]
     },
     "execution_count": 33,
     "metadata": {},
     "output_type": "execute_result"
    }
   ],
   "source": [
    "type(lat_mean)"
   ]
  },
  {
   "cell_type": "code",
   "execution_count": 34,
   "id": "00af1b1a",
   "metadata": {},
   "outputs": [],
   "source": [
    "df['distance_from_middle']=np.sqrt((df['latitude']-lat_mean)**2 + (df['longitude']-long_mean)**2)"
   ]
  },
  {
   "cell_type": "code",
   "execution_count": 35,
   "id": "ed4c3212",
   "metadata": {
    "scrolled": true
   },
   "outputs": [
    {
     "data": {
      "text/plain": [
       "0         0.080402\n",
       "1         0.084647\n",
       "2         0.086142\n",
       "3         0.095027\n",
       "4         0.204046\n",
       "            ...   \n",
       "643588    0.372788\n",
       "643589    0.203628\n",
       "643590    0.270306\n",
       "643591    0.081576\n",
       "643592    0.173257\n",
       "Name: distance_from_middle, Length: 643593, dtype: float64"
      ]
     },
     "execution_count": 35,
     "metadata": {},
     "output_type": "execute_result"
    }
   ],
   "source": [
    "df['distance_from_middle']"
   ]
  },
  {
   "cell_type": "code",
   "execution_count": 36,
   "id": "7101d4c5",
   "metadata": {},
   "outputs": [
    {
     "name": "stdout",
     "output_type": "stream",
     "text": [
      "<class 'pandas.core.frame.DataFrame'>\n",
      "RangeIndex: 643593 entries, 0 to 643592\n",
      "Data columns (total 25 columns):\n",
      " #   Column                Non-Null Count   Dtype  \n",
      "---  ------                --------------   -----  \n",
      " 0   bus_route_id          643593 non-null  int64  \n",
      " 1   station_code          643593 non-null  int64  \n",
      " 2   latitude              643593 non-null  float64\n",
      " 3   longitude             643593 non-null  float64\n",
      " 4   6~7_ride              643593 non-null  float64\n",
      " 5   7~8_ride              643593 non-null  float64\n",
      " 6   8~9_ride              643593 non-null  float64\n",
      " 7   9~10_ride             643593 non-null  float64\n",
      " 8   10~11_ride            643593 non-null  float64\n",
      " 9   11~12_ride            643593 non-null  float64\n",
      " 10  6~7_takeoff           643593 non-null  float64\n",
      " 11  7~8_takeoff           643593 non-null  float64\n",
      " 12  8~9_takeoff           643593 non-null  float64\n",
      " 13  9~10_takeoff          643593 non-null  float64\n",
      " 14  10~11_takeoff         643593 non-null  float64\n",
      " 15  11~12_takeoff         643593 non-null  float64\n",
      " 16  18~20_ride            415423 non-null  float64\n",
      " 17  year                  643593 non-null  int64  \n",
      " 18  month                 643593 non-null  int64  \n",
      " 19  day                   643593 non-null  int64  \n",
      " 20  dayofweek             643593 non-null  int64  \n",
      " 21  in_out_시내             643593 non-null  uint8  \n",
      " 22  in_out_시외             643593 non-null  uint8  \n",
      " 23  station_권역번호          643593 non-null  int64  \n",
      " 24  distance_from_middle  643593 non-null  float64\n",
      "dtypes: float64(16), int64(7), uint8(2)\n",
      "memory usage: 114.2 MB\n"
     ]
    }
   ],
   "source": [
    "df.info()"
   ]
  },
  {
   "cell_type": "code",
   "execution_count": 37,
   "id": "e749cada",
   "metadata": {},
   "outputs": [],
   "source": [
    "df=df.drop('latitude', axis=1)\n",
    "df=df.drop('longitude', axis=1)"
   ]
  },
  {
   "cell_type": "markdown",
   "id": "e28bbbbb",
   "metadata": {},
   "source": [
    "전처리 끝"
   ]
  },
  {
   "cell_type": "markdown",
   "id": "db738bbb",
   "metadata": {},
   "source": [
    "# 라이브러리 불러오기 및 데이터셋 나눠주기"
   ]
  },
  {
   "cell_type": "code",
   "execution_count": 38,
   "id": "32abb5c7",
   "metadata": {},
   "outputs": [],
   "source": [
    "from sklearn.metrics import accuracy_score, r2_score\n",
    "from sklearn.metrics import mean_squared_error\n",
    "from sklearn.metrics import mean_absolute_error\n",
    "\n",
    "from sklearn.model_selection import train_test_split\n",
    "from sklearn.model_selection import cross_val_predict\n",
    "from sklearn.model_selection import cross_validate\n",
    "\n",
    "from sklearn.tree import DecisionTreeRegressor\n",
    "from sklearn.ensemble import RandomForestRegressor\n",
    "\n",
    "#기계 학습 모델 구축 패키지\n",
    "import scipy as sp\n",
    "import scipy.stats as stats\n",
    "\n",
    "import statsmodels.api as sm\n",
    "from statsmodels.formula.api import ols\n",
    "\n"
   ]
  },
  {
   "cell_type": "code",
   "execution_count": 39,
   "id": "f154c5c2",
   "metadata": {},
   "outputs": [],
   "source": [
    "feature_names=['station_code', '6~7_ride','distance_from_middle',\n",
    "       '7~8_ride', '8~9_ride', '9~10_ride', '10~11_ride', '11~12_ride',\n",
    "       '6~7_takeoff', '7~8_takeoff', '8~9_takeoff', '9~10_takeoff',\n",
    "       '10~11_takeoff', '11~12_takeoff', 'year', 'month', 'day',\n",
    "       'dayofweek', 'in_out_시내', 'in_out_시외', 'station_권역번호']"
   ]
  },
  {
   "cell_type": "code",
   "execution_count": 40,
   "id": "171b5ec2",
   "metadata": {},
   "outputs": [],
   "source": [
    "label_name='18~20_ride'"
   ]
  },
  {
   "cell_type": "markdown",
   "id": "889ee8d4",
   "metadata": {},
   "source": [
    "* 답이 없는건 너무 답답하니까 0 ~ 315422까지는 학습용, 315423 ~ 415423 테스트 용으로 쪼개자"
   ]
  },
  {
   "cell_type": "code",
   "execution_count": 41,
   "id": "1b0decdf",
   "metadata": {},
   "outputs": [],
   "source": [
    "X_train=df[feature_names].iloc[:315423]\n",
    "y_train=df[label_name].iloc[:315423]\n",
    "X_test=df[feature_names].iloc[315423:415423]\n",
    "y_test=df[label_name].iloc[315423:415423]"
   ]
  },
  {
   "cell_type": "code",
   "execution_count": 42,
   "id": "90d265b4",
   "metadata": {},
   "outputs": [
    {
     "data": {
      "text/plain": [
       "((315423, 21), (315423,), (100000, 21), (100000,))"
      ]
     },
     "execution_count": 42,
     "metadata": {},
     "output_type": "execute_result"
    }
   ],
   "source": [
    "X_train.shape,y_train.shape,X_test.shape,y_test.shape"
   ]
  },
  {
   "cell_type": "markdown",
   "id": "f4ad2bc5",
   "metadata": {},
   "source": [
    "# Linear regression"
   ]
  },
  {
   "cell_type": "markdown",
   "id": "404d1ba6",
   "metadata": {},
   "source": [
    "## 모델 구축 "
   ]
  },
  {
   "cell_type": "code",
   "execution_count": 43,
   "id": "a3531886",
   "metadata": {},
   "outputs": [
    {
     "name": "stderr",
     "output_type": "stream",
     "text": [
      "C:\\Users\\Chalie\\anaconda3\\lib\\site-packages\\statsmodels\\tsa\\tsatools.py:142: FutureWarning: In a future version of pandas all arguments of concat except for the argument 'objs' will be keyword-only\n",
      "  x = pd.concat(x[::order], 1)\n"
     ]
    }
   ],
   "source": [
    "# 선형 회귀 모델 가정 확인\n",
    "X_train = sm.add_constant(X_train)\n",
    "model = sm.OLS(y_train, X_train, axis=1)\n",
    "model_trained = model.fit()"
   ]
  },
  {
   "cell_type": "markdown",
   "id": "4a3b4f20",
   "metadata": {},
   "source": [
    "* 확률 오차의 정규성을 확인 결과 진짜 만족하지 못한다는 것을 확인 가능"
   ]
  },
  {
   "cell_type": "code",
   "execution_count": 44,
   "id": "9b9523ec",
   "metadata": {
    "scrolled": false
   },
   "outputs": [
    {
     "name": "stderr",
     "output_type": "stream",
     "text": [
      "C:\\Users\\Chalie\\anaconda3\\lib\\site-packages\\statsmodels\\graphics\\gofplots.py:993: UserWarning: marker is redundantly defined by the 'marker' keyword argument and the fmt string \"bo\" (-> marker='o'). The keyword argument will take precedence.\n",
      "  ax.plot(x, y, fmt, **plot_style)\n",
      "C:\\Users\\Chalie\\anaconda3\\lib\\site-packages\\statsmodels\\graphics\\gofplots.py:993: UserWarning: color is redundantly defined by the 'color' keyword argument and the fmt string \"bo\" (-> color='b'). The keyword argument will take precedence.\n",
      "  ax.plot(x, y, fmt, **plot_style)\n"
     ]
    },
    {
     "data": {
      "image/png": "[encoded data removed]",
      "text/plain": [
       "<Figure size 864x864 with 1 Axes>"
      ]
     },
     "metadata": {
      "needs_background": "light"
     },
     "output_type": "display_data"
    }
   ],
   "source": [
    "# 확률 오차의 정규성 확인\n",
    "model_residuals = model_trained.resid\n",
    "\n",
    "fig, ax = plt.subplots(1, 1)\n",
    "fig.set_figheight(12)\n",
    "fig.set_figwidth(12)\n",
    "\n",
    "sm.ProbPlot(model_residuals).qqplot(line='s', color='#1f77b4', ax=ax)\n",
    "ax.title.set_text('QQ Plot')"
   ]
  },
  {
   "cell_type": "markdown",
   "id": "b31cef53",
   "metadata": {},
   "source": [
    "* r2가 0.44, adj.r2는 0.439가 나온 것을 확인할 수 있었다.\n",
    "* 시내에 대한 데이터는 p_value가 0.05를 넘어가는 것을 확인 가능 (다중 회귀 모델의 가정을 충족할 수 있는가?)"
   ]
  },
  {
   "cell_type": "code",
   "execution_count": 45,
   "id": "d434e31f",
   "metadata": {
    "scrolled": false
   },
   "outputs": [
    {
     "name": "stdout",
     "output_type": "stream",
     "text": [
      "                            OLS Regression Results                            \n",
      "==============================================================================\n",
      "Dep. Variable:             18~20_ride   R-squared:                       0.441\n",
      "Model:                            OLS   Adj. R-squared:                  0.441\n",
      "Method:                 Least Squares   F-statistic:                 1.380e+04\n",
      "Date:                Fri, 24 Jun 2022   Prob (F-statistic):               0.00\n",
      "Time:                        19:05:44   Log-Likelihood:            -8.5154e+05\n",
      "No. Observations:              315423   AIC:                         1.703e+06\n",
      "Df Residuals:                  315404   BIC:                         1.703e+06\n",
      "Df Model:                          18                                         \n",
      "Covariance Type:            nonrobust                                         \n",
      "========================================================================================\n",
      "                           coef    std err          t      P>|t|      [0.025      0.975]\n",
      "----------------------------------------------------------------------------------------\n",
      "station_code         -5.572e-08   1.29e-08     -4.302      0.000   -8.11e-08   -3.03e-08\n",
      "6~7_ride                 0.1630      0.006     25.306      0.000       0.150       0.176\n",
      "distance_from_middle    -2.2204      0.075    -29.593      0.000      -2.367      -2.073\n",
      "7~8_ride                 0.1046      0.004     29.494      0.000       0.098       0.112\n",
      "8~9_ride                 0.1902      0.004     51.662      0.000       0.183       0.197\n",
      "9~10_ride                0.3103      0.004     69.042      0.000       0.302       0.319\n",
      "10~11_ride               0.4324      0.005     93.107      0.000       0.423       0.442\n",
      "11~12_ride               0.7322      0.004    163.241      0.000       0.723       0.741\n",
      "6~7_takeoff              0.3802      0.011     33.614      0.000       0.358       0.402\n",
      "7~8_takeoff              0.1658      0.006     28.149      0.000       0.154       0.177\n",
      "8~9_takeoff              0.1288      0.005     26.015      0.000       0.119       0.138\n",
      "9~10_takeoff             0.1225      0.006     21.003      0.000       0.111       0.134\n",
      "10~11_takeoff            0.0857      0.006     13.924      0.000       0.074       0.098\n",
      "11~12_takeoff            0.0328      0.006      5.506      0.000       0.021       0.045\n",
      "year                     0.0003   2.53e-05     11.220      0.000       0.000       0.000\n",
      "month                 1.264e-06   1.13e-07     11.220      0.000    1.04e-06    1.48e-06\n",
      "day                      0.0071      0.001      7.515      0.000       0.005       0.009\n",
      "dayofweek               -0.0081      0.003     -2.539      0.011      -0.014      -0.002\n",
      "in_out_시내               -0.0346      0.025     -1.382      0.167      -0.084       0.014\n",
      "in_out_시외                0.0346      0.025      1.382      0.167      -0.014       0.084\n",
      "station_권역번호            -0.0016      0.000    -11.085      0.000      -0.002      -0.001\n",
      "==============================================================================\n",
      "Omnibus:                   617666.681   Durbin-Watson:                   1.853\n",
      "Prob(Omnibus):                  0.000   Jarque-Bera (JB):       4411246802.274\n",
      "Skew:                          15.225   Prob(JB):                         0.00\n",
      "Kurtosis:                     581.547   Cond. No.                     2.44e+21\n",
      "==============================================================================\n",
      "\n",
      "Notes:\n",
      "[1] Standard Errors assume that the covariance matrix of the errors is correctly specified.\n",
      "[2] The smallest eigenvalue is 1.34e-26. This might indicate that there are\n",
      "strong multicollinearity problems or that the design matrix is singular.\n"
     ]
    }
   ],
   "source": [
    "print(model_trained.summary())"
   ]
  },
  {
   "cell_type": "markdown",
   "id": "ba5b2e76",
   "metadata": {},
   "source": [
    "* p_value가 0.05를 넘어가는 변수를 제거 후 다시 진행"
   ]
  },
  {
   "cell_type": "code",
   "execution_count": 46,
   "id": "2029c154",
   "metadata": {
    "scrolled": false
   },
   "outputs": [
    {
     "name": "stdout",
     "output_type": "stream",
     "text": [
      "                            OLS Regression Results                            \n",
      "==============================================================================\n",
      "Dep. Variable:             18~20_ride   R-squared:                       0.441\n",
      "Model:                            OLS   Adj. R-squared:                  0.441\n",
      "Method:                 Least Squares   F-statistic:                 1.462e+04\n",
      "Date:                Fri, 24 Jun 2022   Prob (F-statistic):               0.00\n",
      "Time:                        19:05:44   Log-Likelihood:            -8.5154e+05\n",
      "No. Observations:              315423   AIC:                         1.703e+06\n",
      "Df Residuals:                  315405   BIC:                         1.703e+06\n",
      "Df Model:                          17                                         \n",
      "Covariance Type:            nonrobust                                         \n",
      "========================================================================================\n",
      "                           coef    std err          t      P>|t|      [0.025      0.975]\n",
      "----------------------------------------------------------------------------------------\n",
      "station_code         -5.403e-08   1.29e-08     -4.191      0.000   -7.93e-08   -2.88e-08\n",
      "6~7_ride                 0.1631      0.006     25.330      0.000       0.151       0.176\n",
      "distance_from_middle    -2.2207      0.075    -29.597      0.000      -2.368      -2.074\n",
      "7~8_ride                 0.1045      0.004     29.479      0.000       0.098       0.111\n",
      "8~9_ride                 0.1903      0.004     51.671      0.000       0.183       0.197\n",
      "9~10_ride                0.3104      0.004     69.046      0.000       0.302       0.319\n",
      "10~11_ride               0.4325      0.005     93.124      0.000       0.423       0.442\n",
      "11~12_ride               0.7323      0.004    163.260      0.000       0.724       0.741\n",
      "6~7_takeoff              0.3805      0.011     33.640      0.000       0.358       0.403\n",
      "7~8_takeoff              0.1659      0.006     28.168      0.000       0.154       0.177\n",
      "8~9_takeoff              0.1288      0.005     26.026      0.000       0.119       0.139\n",
      "9~10_takeoff             0.1225      0.006     21.017      0.000       0.111       0.134\n",
      "10~11_takeoff            0.0856      0.006     13.915      0.000       0.074       0.098\n",
      "11~12_takeoff            0.0328      0.006      5.491      0.000       0.021       0.044\n",
      "year                     0.0003   2.16e-05     12.264      0.000       0.000       0.000\n",
      "month                 1.184e-06   9.65e-08     12.264      0.000    9.94e-07    1.37e-06\n",
      "day                      0.0071      0.001      7.519      0.000       0.005       0.009\n",
      "dayofweek               -0.0080      0.003     -2.527      0.012      -0.014      -0.002\n",
      "station_권역번호            -0.0016      0.000    -11.031      0.000      -0.002      -0.001\n",
      "==============================================================================\n",
      "Omnibus:                   617640.257   Durbin-Watson:                   1.853\n",
      "Prob(Omnibus):                  0.000   Jarque-Bera (JB):       4410266510.286\n",
      "Skew:                          15.223   Prob(JB):                         0.00\n",
      "Kurtosis:                     581.483   Cond. No.                     1.52e+20\n",
      "==============================================================================\n",
      "\n",
      "Notes:\n",
      "[1] Standard Errors assume that the covariance matrix of the errors is correctly specified.\n",
      "[2] The smallest eigenvalue is 3.43e-24. This might indicate that there are\n",
      "strong multicollinearity problems or that the design matrix is singular.\n"
     ]
    }
   ],
   "source": [
    "model = sm.OLS(y_train, X_train.drop(['in_out_시내', 'in_out_시외'], axis=1))\n",
    "model_trained = model.fit()\n",
    "print(model_trained.summary())"
   ]
  },
  {
   "cell_type": "markdown",
   "id": "0dd952f2",
   "metadata": {},
   "source": [
    "* dayofweek도 다시 드랍후 다시 진행"
   ]
  },
  {
   "cell_type": "code",
   "execution_count": 47,
   "id": "d8b7c7fd",
   "metadata": {
    "scrolled": false
   },
   "outputs": [
    {
     "name": "stdout",
     "output_type": "stream",
     "text": [
      "                            OLS Regression Results                            \n",
      "==============================================================================\n",
      "Dep. Variable:             18~20_ride   R-squared:                       0.441\n",
      "Model:                            OLS   Adj. R-squared:                  0.441\n",
      "Method:                 Least Squares   F-statistic:                 1.553e+04\n",
      "Date:                Fri, 24 Jun 2022   Prob (F-statistic):               0.00\n",
      "Time:                        19:05:44   Log-Likelihood:            -8.5155e+05\n",
      "No. Observations:              315423   AIC:                         1.703e+06\n",
      "Df Residuals:                  315406   BIC:                         1.703e+06\n",
      "Df Model:                          16                                         \n",
      "Covariance Type:            nonrobust                                         \n",
      "========================================================================================\n",
      "                           coef    std err          t      P>|t|      [0.025      0.975]\n",
      "----------------------------------------------------------------------------------------\n",
      "station_code         -5.443e-08   1.29e-08     -4.222      0.000   -7.97e-08   -2.92e-08\n",
      "6~7_ride                 0.1633      0.006     25.353      0.000       0.151       0.176\n",
      "distance_from_middle    -2.2170      0.075    -29.553      0.000      -2.364      -2.070\n",
      "7~8_ride                 0.1053      0.004     29.786      0.000       0.098       0.112\n",
      "8~9_ride                 0.1906      0.004     51.776      0.000       0.183       0.198\n",
      "9~10_ride                0.3103      0.004     69.033      0.000       0.301       0.319\n",
      "10~11_ride               0.4323      0.005     93.096      0.000       0.423       0.441\n",
      "11~12_ride               0.7319      0.004    163.268      0.000       0.723       0.741\n",
      "6~7_takeoff              0.3804      0.011     33.633      0.000       0.358       0.403\n",
      "7~8_takeoff              0.1662      0.006     28.220      0.000       0.155       0.178\n",
      "8~9_takeoff              0.1293      0.005     26.142      0.000       0.120       0.139\n",
      "9~10_takeoff             0.1228      0.006     21.053      0.000       0.111       0.134\n",
      "10~11_takeoff            0.0856      0.006     13.911      0.000       0.074       0.098\n",
      "11~12_takeoff            0.0326      0.006      5.459      0.000       0.021       0.044\n",
      "year                     0.0003   2.11e-05     12.003      0.000       0.000       0.000\n",
      "month                 1.129e-06   9.41e-08     12.003      0.000    9.45e-07    1.31e-06\n",
      "day                      0.0072      0.001      7.544      0.000       0.005       0.009\n",
      "station_권역번호            -0.0016      0.000    -10.989      0.000      -0.002      -0.001\n",
      "==============================================================================\n",
      "Omnibus:                   617658.961   Durbin-Watson:                   1.853\n",
      "Prob(Omnibus):                  0.000   Jarque-Bera (JB):       4411539420.223\n",
      "Skew:                          15.224   Prob(JB):                         0.00\n",
      "Kurtosis:                     581.567   Cond. No.                     1.50e+20\n",
      "==============================================================================\n",
      "\n",
      "Notes:\n",
      "[1] Standard Errors assume that the covariance matrix of the errors is correctly specified.\n",
      "[2] The smallest eigenvalue is 3.56e-24. This might indicate that there are\n",
      "strong multicollinearity problems or that the design matrix is singular.\n"
     ]
    }
   ],
   "source": [
    "model = sm.OLS(y_train, X_train.drop(['in_out_시내', 'in_out_시외','dayofweek'], axis=1))\n",
    "model_trained = model.fit()\n",
    "print(model_trained.summary())"
   ]
  },
  {
   "cell_type": "code",
   "execution_count": 48,
   "id": "d398686e",
   "metadata": {},
   "outputs": [
    {
     "name": "stderr",
     "output_type": "stream",
     "text": [
      "C:\\Users\\Chalie\\anaconda3\\lib\\site-packages\\statsmodels\\tsa\\tsatools.py:142: FutureWarning: In a future version of pandas all arguments of concat except for the argument 'objs' will be keyword-only\n",
      "  x = pd.concat(x[::order], 1)\n"
     ]
    }
   ],
   "source": [
    "X_test = sm.add_constant(X_test)"
   ]
  },
  {
   "cell_type": "code",
   "execution_count": 49,
   "id": "f6d92c61",
   "metadata": {},
   "outputs": [
    {
     "data": {
      "text/plain": [
       "315423    5.213147\n",
       "315424    0.407350\n",
       "315425    0.904257\n",
       "315426    0.712109\n",
       "315427    0.462468\n",
       "dtype: float64"
      ]
     },
     "execution_count": 49,
     "metadata": {},
     "output_type": "execute_result"
    }
   ],
   "source": [
    "y_test_pred = model_trained.predict(X_test.drop(['in_out_시내', 'in_out_시외','dayofweek'], axis=1))\n",
    "y_test_pred.head()"
   ]
  },
  {
   "cell_type": "markdown",
   "id": "cd1bf6b4",
   "metadata": {},
   "source": [
    "## RMSE"
   ]
  },
  {
   "cell_type": "code",
   "execution_count": 50,
   "id": "926111ed",
   "metadata": {},
   "outputs": [
    {
     "data": {
      "text/plain": [
       "3.2625950576666694"
      ]
     },
     "execution_count": 50,
     "metadata": {},
     "output_type": "execute_result"
    }
   ],
   "source": [
    "np.sqrt(mean_squared_error(y_test, y_test_pred))"
   ]
  },
  {
   "cell_type": "markdown",
   "id": "1c7b438b",
   "metadata": {},
   "source": [
    "# DecisionTreeRegressor"
   ]
  },
  {
   "cell_type": "markdown",
   "id": "862b6f0e",
   "metadata": {},
   "source": [
    "## 모델 구축하기"
   ]
  },
  {
   "cell_type": "code",
   "execution_count": 51,
   "id": "1d89c4fc",
   "metadata": {},
   "outputs": [
    {
     "data": {
      "text/html": [
       "<style>#sk-container-id-1 {color: black;background-color: white;}#sk-container-id-1 pre{padding: 0;}#sk-container-id-1 div.sk-toggleable {background-color: white;}#sk-container-id-1 label.sk-toggleable__label {cursor: pointer;display: block;width: 100%;margin-bottom: 0;padding: 0.3em;box-sizing: border-box;text-align: center;}#sk-container-id-1 label.sk-toggleable__label-arrow:before {content: \"▸\";float: left;margin-right: 0.25em;color: #696969;}#sk-container-id-1 label.sk-toggleable__label-arrow:hover:before {color: black;}#sk-container-id-1 div.sk-estimator:hover label.sk-toggleable__label-arrow:before {color: black;}#sk-container-id-1 div.sk-toggleable__content {max-height: 0;max-width: 0;overflow: hidden;text-align: left;background-color: #f0f8ff;}#sk-container-id-1 div.sk-toggleable__content pre {margin: 0.2em;color: black;border-radius: 0.25em;background-color: #f0f8ff;}#sk-container-id-1 input.sk-toggleable__control:checked~div.sk-toggleable__content {max-height: 200px;max-width: 100%;overflow: auto;}#sk-container-id-1 input.sk-toggleable__control:checked~label.sk-toggleable__label-arrow:before {content: \"▾\";}#sk-container-id-1 div.sk-estimator input.sk-toggleable__control:checked~label.sk-toggleable__label {background-color: #d4ebff;}#sk-container-id-1 div.sk-label input.sk-toggleable__control:checked~label.sk-toggleable__label {background-color: #d4ebff;}#sk-container-id-1 input.sk-hidden--visually {border: 0;clip: rect(1px 1px 1px 1px);clip: rect(1px, 1px, 1px, 1px);height: 1px;margin: -1px;overflow: hidden;padding: 0;position: absolute;width: 1px;}#sk-container-id-1 div.sk-estimator {font-family: monospace;background-color: #f0f8ff;border: 1px dotted black;border-radius: 0.25em;box-sizing: border-box;margin-bottom: 0.5em;}#sk-container-id-1 div.sk-estimator:hover {background-color: #d4ebff;}#sk-container-id-1 div.sk-parallel-item::after {content: \"\";width: 100%;border-bottom: 1px solid gray;flex-grow: 1;}#sk-container-id-1 div.sk-label:hover label.sk-toggleable__label {background-color: #d4ebff;}#sk-container-id-1 div.sk-serial::before {content: \"\";position: absolute;border-left: 1px solid gray;box-sizing: border-box;top: 0;bottom: 0;left: 50%;z-index: 0;}#sk-container-id-1 div.sk-serial {display: flex;flex-direction: column;align-items: center;background-color: white;padding-right: 0.2em;padding-left: 0.2em;position: relative;}#sk-container-id-1 div.sk-item {position: relative;z-index: 1;}#sk-container-id-1 div.sk-parallel {display: flex;align-items: stretch;justify-content: center;background-color: white;position: relative;}#sk-container-id-1 div.sk-item::before, #sk-container-id-1 div.sk-parallel-item::before {content: \"\";position: absolute;border-left: 1px solid gray;box-sizing: border-box;top: 0;bottom: 0;left: 50%;z-index: -1;}#sk-container-id-1 div.sk-parallel-item {display: flex;flex-direction: column;z-index: 1;position: relative;background-color: white;}#sk-container-id-1 div.sk-parallel-item:first-child::after {align-self: flex-end;width: 50%;}#sk-container-id-1 div.sk-parallel-item:last-child::after {align-self: flex-start;width: 50%;}#sk-container-id-1 div.sk-parallel-item:only-child::after {width: 0;}#sk-container-id-1 div.sk-dashed-wrapped {border: 1px dashed gray;margin: 0 0.4em 0.5em 0.4em;box-sizing: border-box;padding-bottom: 0.4em;background-color: white;}#sk-container-id-1 div.sk-label label {font-family: monospace;font-weight: bold;display: inline-block;line-height: 1.2em;}#sk-container-id-1 div.sk-label-container {text-align: center;}#sk-container-id-1 div.sk-container {/* jupyter's `normalize.less` sets `[hidden] { display: none; }` but bootstrap.min.css set `[hidden] { display: none !important; }` so we also need the `!important` here to be able to override the default hidden behavior on the sphinx rendered scikit-learn.org. See: https://github.com/scikit-learn/scikit-learn/issues/21755 */display: inline-block !important;position: relative;}#sk-container-id-1 div.sk-text-repr-fallback {display: none;}</style><div id=\"sk-container-id-1\" class=\"sk-top-container\"><div class=\"sk-text-repr-fallback\"><pre>DecisionTreeRegressor()</pre><b>In a Jupyter environment, please rerun this cell to show the HTML representation or trust the notebook. <br />On GitHub, the HTML representation is unable to render, please try loading this page with nbviewer.org.</b></div><div class=\"sk-container\" hidden><div class=\"sk-item\"><div class=\"sk-estimator sk-toggleable\"><input class=\"sk-toggleable__control sk-hidden--visually\" id=\"sk-estimator-id-1\" type=\"checkbox\" checked><label for=\"sk-estimator-id-1\" class=\"sk-toggleable__label sk-toggleable__label-arrow\">DecisionTreeRegressor</label><div class=\"sk-toggleable__content\"><pre>DecisionTreeRegressor()</pre></div></div></div></div></div>"
      ],
      "text/plain": [
       "DecisionTreeRegressor()"
      ]
     },
     "execution_count": 51,
     "metadata": {},
     "output_type": "execute_result"
    }
   ],
   "source": [
    "model = DecisionTreeRegressor()\n",
    "model"
   ]
  },
  {
   "cell_type": "code",
   "execution_count": 52,
   "id": "8c5f49fe",
   "metadata": {},
   "outputs": [
    {
     "data": {
      "text/plain": [
       "array([ 1.,  6.,  0., 59.,  0.])"
      ]
     },
     "execution_count": 52,
     "metadata": {},
     "output_type": "execute_result"
    }
   ],
   "source": [
    "y_val_predict = cross_val_predict(model, X_train, y_train, cv=3)\n",
    "y_val_predict[:5]"
   ]
  },
  {
   "cell_type": "code",
   "execution_count": 53,
   "id": "479815a4",
   "metadata": {},
   "outputs": [],
   "source": [
    "mse = mean_squared_error(y_train, y_val_predict)"
   ]
  },
  {
   "cell_type": "markdown",
   "id": "ff7d1894",
   "metadata": {},
   "source": [
    "## RMSE"
   ]
  },
  {
   "cell_type": "markdown",
   "id": "ac530de5",
   "metadata": {},
   "source": [
    "생각보다 결과가 잘나와 보이는데 오버피팅일 가능성이 매우 높은거 같다"
   ]
  },
  {
   "cell_type": "code",
   "execution_count": 54,
   "id": "e940191f",
   "metadata": {},
   "outputs": [
    {
     "name": "stdout",
     "output_type": "stream",
     "text": [
      "mse:19.50522684352969, rmse:4.4164722169996375\n"
     ]
    }
   ],
   "source": [
    "print(f'mse:{mse}, rmse:{np.sqrt(mse)}')"
   ]
  },
  {
   "cell_type": "code",
   "execution_count": 55,
   "id": "3ca78e97",
   "metadata": {},
   "outputs": [
    {
     "data": {
      "text/html": [
       "<style>#sk-container-id-2 {color: black;background-color: white;}#sk-container-id-2 pre{padding: 0;}#sk-container-id-2 div.sk-toggleable {background-color: white;}#sk-container-id-2 label.sk-toggleable__label {cursor: pointer;display: block;width: 100%;margin-bottom: 0;padding: 0.3em;box-sizing: border-box;text-align: center;}#sk-container-id-2 label.sk-toggleable__label-arrow:before {content: \"▸\";float: left;margin-right: 0.25em;color: #696969;}#sk-container-id-2 label.sk-toggleable__label-arrow:hover:before {color: black;}#sk-container-id-2 div.sk-estimator:hover label.sk-toggleable__label-arrow:before {color: black;}#sk-container-id-2 div.sk-toggleable__content {max-height: 0;max-width: 0;overflow: hidden;text-align: left;background-color: #f0f8ff;}#sk-container-id-2 div.sk-toggleable__content pre {margin: 0.2em;color: black;border-radius: 0.25em;background-color: #f0f8ff;}#sk-container-id-2 input.sk-toggleable__control:checked~div.sk-toggleable__content {max-height: 200px;max-width: 100%;overflow: auto;}#sk-container-id-2 input.sk-toggleable__control:checked~label.sk-toggleable__label-arrow:before {content: \"▾\";}#sk-container-id-2 div.sk-estimator input.sk-toggleable__control:checked~label.sk-toggleable__label {background-color: #d4ebff;}#sk-container-id-2 div.sk-label input.sk-toggleable__control:checked~label.sk-toggleable__label {background-color: #d4ebff;}#sk-container-id-2 input.sk-hidden--visually {border: 0;clip: rect(1px 1px 1px 1px);clip: rect(1px, 1px, 1px, 1px);height: 1px;margin: -1px;overflow: hidden;padding: 0;position: absolute;width: 1px;}#sk-container-id-2 div.sk-estimator {font-family: monospace;background-color: #f0f8ff;border: 1px dotted black;border-radius: 0.25em;box-sizing: border-box;margin-bottom: 0.5em;}#sk-container-id-2 div.sk-estimator:hover {background-color: #d4ebff;}#sk-container-id-2 div.sk-parallel-item::after {content: \"\";width: 100%;border-bottom: 1px solid gray;flex-grow: 1;}#sk-container-id-2 div.sk-label:hover label.sk-toggleable__label {background-color: #d4ebff;}#sk-container-id-2 div.sk-serial::before {content: \"\";position: absolute;border-left: 1px solid gray;box-sizing: border-box;top: 0;bottom: 0;left: 50%;z-index: 0;}#sk-container-id-2 div.sk-serial {display: flex;flex-direction: column;align-items: center;background-color: white;padding-right: 0.2em;padding-left: 0.2em;position: relative;}#sk-container-id-2 div.sk-item {position: relative;z-index: 1;}#sk-container-id-2 div.sk-parallel {display: flex;align-items: stretch;justify-content: center;background-color: white;position: relative;}#sk-container-id-2 div.sk-item::before, #sk-container-id-2 div.sk-parallel-item::before {content: \"\";position: absolute;border-left: 1px solid gray;box-sizing: border-box;top: 0;bottom: 0;left: 50%;z-index: -1;}#sk-container-id-2 div.sk-parallel-item {display: flex;flex-direction: column;z-index: 1;position: relative;background-color: white;}#sk-container-id-2 div.sk-parallel-item:first-child::after {align-self: flex-end;width: 50%;}#sk-container-id-2 div.sk-parallel-item:last-child::after {align-self: flex-start;width: 50%;}#sk-container-id-2 div.sk-parallel-item:only-child::after {width: 0;}#sk-container-id-2 div.sk-dashed-wrapped {border: 1px dashed gray;margin: 0 0.4em 0.5em 0.4em;box-sizing: border-box;padding-bottom: 0.4em;background-color: white;}#sk-container-id-2 div.sk-label label {font-family: monospace;font-weight: bold;display: inline-block;line-height: 1.2em;}#sk-container-id-2 div.sk-label-container {text-align: center;}#sk-container-id-2 div.sk-container {/* jupyter's `normalize.less` sets `[hidden] { display: none; }` but bootstrap.min.css set `[hidden] { display: none !important; }` so we also need the `!important` here to be able to override the default hidden behavior on the sphinx rendered scikit-learn.org. See: https://github.com/scikit-learn/scikit-learn/issues/21755 */display: inline-block !important;position: relative;}#sk-container-id-2 div.sk-text-repr-fallback {display: none;}</style><div id=\"sk-container-id-2\" class=\"sk-top-container\"><div class=\"sk-text-repr-fallback\"><pre>DecisionTreeRegressor()</pre><b>In a Jupyter environment, please rerun this cell to show the HTML representation or trust the notebook. <br />On GitHub, the HTML representation is unable to render, please try loading this page with nbviewer.org.</b></div><div class=\"sk-container\" hidden><div class=\"sk-item\"><div class=\"sk-estimator sk-toggleable\"><input class=\"sk-toggleable__control sk-hidden--visually\" id=\"sk-estimator-id-2\" type=\"checkbox\" checked><label for=\"sk-estimator-id-2\" class=\"sk-toggleable__label sk-toggleable__label-arrow\">DecisionTreeRegressor</label><div class=\"sk-toggleable__content\"><pre>DecisionTreeRegressor()</pre></div></div></div></div></div>"
      ],
      "text/plain": [
       "DecisionTreeRegressor()"
      ]
     },
     "execution_count": 55,
     "metadata": {},
     "output_type": "execute_result"
    }
   ],
   "source": [
    "model.fit(X_train, y_train)"
   ]
  },
  {
   "cell_type": "code",
   "execution_count": 56,
   "id": "fcaf9eed",
   "metadata": {},
   "outputs": [
    {
     "data": {
      "text/plain": [
       "array([0.0594511 , 0.02414702, 0.13827996, 0.03728578, 0.06331662,\n",
       "       0.0536464 , 0.09034321, 0.30681217, 0.01511657, 0.02581226,\n",
       "       0.01840249, 0.01685542, 0.01735007, 0.02132026, 0.        ,\n",
       "       0.        , 0.03504121, 0.03455657, 0.00056464, 0.00070655,\n",
       "       0.04099169])"
      ]
     },
     "execution_count": 56,
     "metadata": {},
     "output_type": "execute_result"
    }
   ],
   "source": [
    "model.feature_importances_"
   ]
  },
  {
   "cell_type": "code",
   "execution_count": 57,
   "id": "10ab6cf5",
   "metadata": {
    "scrolled": true
   },
   "outputs": [
    {
     "data": {
      "text/plain": [
       "<AxesSubplot:>"
      ]
     },
     "execution_count": 57,
     "metadata": {},
     "output_type": "execute_result"
    },
    {
     "data": {
      "image/png": "[encoded data removed]",
      "text/plain": [
       "<Figure size 432x288 with 1 Axes>"
      ]
     },
     "metadata": {
      "needs_background": "light"
     },
     "output_type": "display_data"
    }
   ],
   "source": [
    "sns.barplot(x=model.feature_importances_,y=feature_names)"
   ]
  },
  {
   "cell_type": "markdown",
   "id": "dda111af",
   "metadata": {},
   "source": [
    "어떤 feature가 어느정도 영향을 미쳤는지 파악"
   ]
  },
  {
   "cell_type": "markdown",
   "id": "f10400dd",
   "metadata": {},
   "source": [
    "* 깊이에 따른 test와 train 에 대한 r2 값을 저장"
   ]
  },
  {
   "cell_type": "code",
   "execution_count": 58,
   "id": "df644f89",
   "metadata": {},
   "outputs": [],
   "source": [
    "max_depths = [1, 3, 5, 7, 10, 20, None]\n",
    "train_r2 = []\n",
    "test_r2 = []\n",
    "\n",
    "for max_depth in max_depths:\n",
    "    \n",
    "    # 모델 학습\n",
    "    model = DecisionTreeRegressor(max_depth=max_depth)\n",
    "    model.fit(X_train, y_train)\n",
    "    \n",
    "    # 예측\n",
    "    y_test_pred = model.predict(X_test)\n",
    "\n",
    "    # 예측 score 기록\n",
    "    train_r2.append(r2_score(y_pred=model.predict(X_train) , y_true = y_train) )\n",
    "    test_r2.append(r2_score(y_pred= y_test_pred, y_true = y_test))\n"
   ]
  },
  {
   "cell_type": "code",
   "execution_count": 59,
   "id": "fca26c18",
   "metadata": {
    "scrolled": false
   },
   "outputs": [
    {
     "data": {
      "image/png": "[encoded data removed]",
      "text/plain": [
       "<Figure size 1080x432 with 2 Axes>"
      ]
     },
     "metadata": {
      "needs_background": "light"
     },
     "output_type": "display_data"
    }
   ],
   "source": [
    "fig, ax = plt.subplots(figsize=(15, 6))\n",
    "\n",
    "xticks = list(map(str, max_depths))\n",
    "\n",
    "ax.plot(range(len(max_depths)), train_r2, color='red', marker='o')\n",
    "ax.set_ylabel('train_r2', color='red', fontsize=12)\n",
    "\n",
    "ax2 = ax.twinx()\n",
    "ax2.plot(range(len(max_depths)), test_r2, color='blue', marker='s')\n",
    "ax2.set_ylabel('test_r2', color='blue', fontsize=12)\n",
    "\n",
    "plt.xticks(range(len(max_depths)), xticks)\n",
    "plt.show()"
   ]
  },
  {
   "cell_type": "markdown",
   "id": "ce380faa",
   "metadata": {},
   "source": [
    "위에 교점이 깊이로 적당할거 같다 이상 넘어가면 과적합일듯"
   ]
  },
  {
   "cell_type": "markdown",
   "id": "67134eb0",
   "metadata": {},
   "source": [
    "## 개선하기"
   ]
  },
  {
   "cell_type": "markdown",
   "id": "45c757fa",
   "metadata": {},
   "source": [
    "중요도가 거의 없는 feature을 삭제하고 돌려보자"
   ]
  },
  {
   "cell_type": "code",
   "execution_count": 65,
   "id": "7d6f7abe",
   "metadata": {},
   "outputs": [],
   "source": [
    "feature_names=['station_code', '6~7_ride','distance_from_middle',\n",
    "       '7~8_ride', '8~9_ride', '9~10_ride', '10~11_ride', '11~12_ride',\n",
    "       '6~7_takeoff', '7~8_takeoff', '8~9_takeoff', '9~10_takeoff',\n",
    "       '10~11_takeoff', '11~12_takeoff', 'day',\n",
    "       'dayofweek', 'station_권역번호']"
   ]
  },
  {
   "cell_type": "code",
   "execution_count": 66,
   "id": "5a1040a2",
   "metadata": {},
   "outputs": [],
   "source": [
    "label_name='18~20_ride'"
   ]
  },
  {
   "cell_type": "code",
   "execution_count": 67,
   "id": "93a14ff9",
   "metadata": {},
   "outputs": [],
   "source": [
    "X_train=df[feature_names].iloc[:315423]\n",
    "y_train=df[label_name].iloc[:315423]\n",
    "X_test=df[feature_names].iloc[315423:415423]\n",
    "y_test=df[label_name].iloc[315423:415423]"
   ]
  },
  {
   "cell_type": "markdown",
   "id": "4d1b169e",
   "metadata": {},
   "source": [
    "깊이 3에서 test의 r2가 가장 높았기 때문에 깊이를 3으로 설정"
   ]
  },
  {
   "cell_type": "code",
   "execution_count": 68,
   "id": "85d54c8b",
   "metadata": {
    "scrolled": false
   },
   "outputs": [
    {
     "data": {
      "text/plain": [
       "array([ 4.3295174 , 11.50163934,  0.62113568, 20.84679089,  0.62113568])"
      ]
     },
     "execution_count": 68,
     "metadata": {},
     "output_type": "execute_result"
    }
   ],
   "source": [
    "model = DecisionTreeRegressor(max_depth=3)\n",
    "model.fit(X_train, y_train)\n",
    "\n",
    "y_val_predict = cross_val_predict(model, X_train, y_train, cv=3)\n",
    "y_val_predict[:5]"
   ]
  },
  {
   "cell_type": "markdown",
   "id": "c2d0f7e3",
   "metadata": {},
   "source": [
    "확실히 개선은 되었다. 근데 linear regression 보다는 딸리는 모습이다."
   ]
  },
  {
   "cell_type": "code",
   "execution_count": 69,
   "id": "7f03d130",
   "metadata": {},
   "outputs": [
    {
     "name": "stdout",
     "output_type": "stream",
     "text": [
      "rmse 3.8710115991008553\n"
     ]
    }
   ],
   "source": [
    "mse = mean_squared_error(y_train, y_val_predict)\n",
    "print('rmse', np.sqrt(mse))"
   ]
  },
  {
   "cell_type": "code",
   "execution_count": 70,
   "id": "bca2a9ef",
   "metadata": {},
   "outputs": [
    {
     "data": {
      "text/plain": [
       "<AxesSubplot:>"
      ]
     },
     "execution_count": 70,
     "metadata": {},
     "output_type": "execute_result"
    },
    {
     "data": {
      "image/png": "[encoded data removed]",
      "text/plain": [
       "<Figure size 432x288 with 1 Axes>"
      ]
     },
     "metadata": {
      "needs_background": "light"
     },
     "output_type": "display_data"
    }
   ],
   "source": [
    "sns.barplot(x=model.feature_importances_,y=feature_names)"
   ]
  },
  {
   "cell_type": "markdown",
   "id": "65ac975c",
   "metadata": {},
   "source": [
    "# RandomForest"
   ]
  },
  {
   "cell_type": "markdown",
   "id": "0b7633a3",
   "metadata": {},
   "source": [
    "## 모델 구축"
   ]
  },
  {
   "cell_type": "code",
   "execution_count": 43,
   "id": "ca7fd4e9",
   "metadata": {
    "scrolled": true
   },
   "outputs": [
    {
     "data": {
      "text/html": [
       "<style>#sk-container-id-1 {color: black;background-color: white;}#sk-container-id-1 pre{padding: 0;}#sk-container-id-1 div.sk-toggleable {background-color: white;}#sk-container-id-1 label.sk-toggleable__label {cursor: pointer;display: block;width: 100%;margin-bottom: 0;padding: 0.3em;box-sizing: border-box;text-align: center;}#sk-container-id-1 label.sk-toggleable__label-arrow:before {content: \"▸\";float: left;margin-right: 0.25em;color: #696969;}#sk-container-id-1 label.sk-toggleable__label-arrow:hover:before {color: black;}#sk-container-id-1 div.sk-estimator:hover label.sk-toggleable__label-arrow:before {color: black;}#sk-container-id-1 div.sk-toggleable__content {max-height: 0;max-width: 0;overflow: hidden;text-align: left;background-color: #f0f8ff;}#sk-container-id-1 div.sk-toggleable__content pre {margin: 0.2em;color: black;border-radius: 0.25em;background-color: #f0f8ff;}#sk-container-id-1 input.sk-toggleable__control:checked~div.sk-toggleable__content {max-height: 200px;max-width: 100%;overflow: auto;}#sk-container-id-1 input.sk-toggleable__control:checked~label.sk-toggleable__label-arrow:before {content: \"▾\";}#sk-container-id-1 div.sk-estimator input.sk-toggleable__control:checked~label.sk-toggleable__label {background-color: #d4ebff;}#sk-container-id-1 div.sk-label input.sk-toggleable__control:checked~label.sk-toggleable__label {background-color: #d4ebff;}#sk-container-id-1 input.sk-hidden--visually {border: 0;clip: rect(1px 1px 1px 1px);clip: rect(1px, 1px, 1px, 1px);height: 1px;margin: -1px;overflow: hidden;padding: 0;position: absolute;width: 1px;}#sk-container-id-1 div.sk-estimator {font-family: monospace;background-color: #f0f8ff;border: 1px dotted black;border-radius: 0.25em;box-sizing: border-box;margin-bottom: 0.5em;}#sk-container-id-1 div.sk-estimator:hover {background-color: #d4ebff;}#sk-container-id-1 div.sk-parallel-item::after {content: \"\";width: 100%;border-bottom: 1px solid gray;flex-grow: 1;}#sk-container-id-1 div.sk-label:hover label.sk-toggleable__label {background-color: #d4ebff;}#sk-container-id-1 div.sk-serial::before {content: \"\";position: absolute;border-left: 1px solid gray;box-sizing: border-box;top: 0;bottom: 0;left: 50%;z-index: 0;}#sk-container-id-1 div.sk-serial {display: flex;flex-direction: column;align-items: center;background-color: white;padding-right: 0.2em;padding-left: 0.2em;position: relative;}#sk-container-id-1 div.sk-item {position: relative;z-index: 1;}#sk-container-id-1 div.sk-parallel {display: flex;align-items: stretch;justify-content: center;background-color: white;position: relative;}#sk-container-id-1 div.sk-item::before, #sk-container-id-1 div.sk-parallel-item::before {content: \"\";position: absolute;border-left: 1px solid gray;box-sizing: border-box;top: 0;bottom: 0;left: 50%;z-index: -1;}#sk-container-id-1 div.sk-parallel-item {display: flex;flex-direction: column;z-index: 1;position: relative;background-color: white;}#sk-container-id-1 div.sk-parallel-item:first-child::after {align-self: flex-end;width: 50%;}#sk-container-id-1 div.sk-parallel-item:last-child::after {align-self: flex-start;width: 50%;}#sk-container-id-1 div.sk-parallel-item:only-child::after {width: 0;}#sk-container-id-1 div.sk-dashed-wrapped {border: 1px dashed gray;margin: 0 0.4em 0.5em 0.4em;box-sizing: border-box;padding-bottom: 0.4em;background-color: white;}#sk-container-id-1 div.sk-label label {font-family: monospace;font-weight: bold;display: inline-block;line-height: 1.2em;}#sk-container-id-1 div.sk-label-container {text-align: center;}#sk-container-id-1 div.sk-container {/* jupyter's `normalize.less` sets `[hidden] { display: none; }` but bootstrap.min.css set `[hidden] { display: none !important; }` so we also need the `!important` here to be able to override the default hidden behavior on the sphinx rendered scikit-learn.org. See: https://github.com/scikit-learn/scikit-learn/issues/21755 */display: inline-block !important;position: relative;}#sk-container-id-1 div.sk-text-repr-fallback {display: none;}</style><div id=\"sk-container-id-1\" class=\"sk-top-container\"><div class=\"sk-text-repr-fallback\"><pre>RandomForestRegressor(random_state=42)</pre><b>In a Jupyter environment, please rerun this cell to show the HTML representation or trust the notebook. <br />On GitHub, the HTML representation is unable to render, please try loading this page with nbviewer.org.</b></div><div class=\"sk-container\" hidden><div class=\"sk-item\"><div class=\"sk-estimator sk-toggleable\"><input class=\"sk-toggleable__control sk-hidden--visually\" id=\"sk-estimator-id-1\" type=\"checkbox\" checked><label for=\"sk-estimator-id-1\" class=\"sk-toggleable__label sk-toggleable__label-arrow\">RandomForestRegressor</label><div class=\"sk-toggleable__content\"><pre>RandomForestRegressor(random_state=42)</pre></div></div></div></div></div>"
      ],
      "text/plain": [
       "RandomForestRegressor(random_state=42)"
      ]
     },
     "execution_count": 43,
     "metadata": {},
     "output_type": "execute_result"
    }
   ],
   "source": [
    "model = RandomForestRegressor(random_state=42)\n",
    "model"
   ]
  },
  {
   "cell_type": "markdown",
   "id": "5aa31e4d",
   "metadata": {},
   "source": [
    "교차 검증"
   ]
  },
  {
   "cell_type": "code",
   "execution_count": null,
   "id": "b785a885",
   "metadata": {},
   "outputs": [],
   "source": [
    "cross_validate(model, X_train, y_train, cv=3, scoring=\"neg_mean_squared_error\")"
   ]
  },
  {
   "cell_type": "code",
   "execution_count": 123,
   "id": "1dda49e5",
   "metadata": {},
   "outputs": [
    {
     "data": {
      "text/plain": [
       "array([ 2.95,  6.8 ,  0.89, 26.04,  0.65,  0.76,  2.21,  2.3 ,  0.82,\n",
       "        0.33])"
      ]
     },
     "execution_count": 123,
     "metadata": {},
     "output_type": "execute_result"
    }
   ],
   "source": [
    "y_valid_predict = cross_val_predict(model, X_train, y_train, cv=5, n_jobs=-1)\n",
    "y_valid_predict[:10]"
   ]
  },
  {
   "cell_type": "code",
   "execution_count": 124,
   "id": "b8f229b7",
   "metadata": {},
   "outputs": [],
   "source": [
    "mse = mean_squared_error(y_train, y_valid_predict)"
   ]
  },
  {
   "cell_type": "markdown",
   "id": "cb861c99",
   "metadata": {},
   "source": [
    "## RMSE"
   ]
  },
  {
   "cell_type": "code",
   "execution_count": 125,
   "id": "8832ad16",
   "metadata": {},
   "outputs": [
    {
     "data": {
      "text/plain": [
       "2.99282345441786"
      ]
     },
     "execution_count": 125,
     "metadata": {},
     "output_type": "execute_result"
    }
   ],
   "source": [
    "np.sqrt(mse)"
   ]
  },
  {
   "cell_type": "code",
   "execution_count": 126,
   "id": "b4b9635a",
   "metadata": {},
   "outputs": [],
   "source": [
    "max_depths = [1, 3, 5, 7, 10, 20, None]\n",
    "train_r2 = []\n",
    "test_r2 = []\n",
    "\n",
    "for max_depth in max_depths:\n",
    "    \n",
    "    # 모델 학습\n",
    "    model = RandomForestRegressor(max_depth=max_depth)\n",
    "    model.fit(X_train, y_train)\n",
    "    \n",
    "    # 예측\n",
    "    y_test_pred = model.predict(X_test)\n",
    "\n",
    "    # 예측 score 기록\n",
    "    train_r2.append(r2_score(y_pred=model.predict(X_train) , y_true = y_train) )\n",
    "    test_r2.append(r2_score(y_pred= y_test_pred, y_true = y_test))"
   ]
  },
  {
   "cell_type": "code",
   "execution_count": 127,
   "id": "f9e383f1",
   "metadata": {
    "scrolled": false
   },
   "outputs": [
    {
     "data": {
      "image/png": "[encoded data removed]",
      "text/plain": [
       "<Figure size 1080x432 with 2 Axes>"
      ]
     },
     "metadata": {
      "needs_background": "light"
     },
     "output_type": "display_data"
    }
   ],
   "source": [
    "fig, ax = plt.subplots(figsize=(15, 6))\n",
    "\n",
    "xticks = list(map(str, max_depths))\n",
    "\n",
    "ax.plot(range(len(max_depths)), train_r2, color='red', marker='o')\n",
    "ax.set_ylabel('train_r2', color='red', fontsize=12)\n",
    "\n",
    "ax2 = ax.twinx()\n",
    "ax2.plot(range(len(max_depths)), test_r2, color='blue', marker='s')\n",
    "ax2.set_ylabel('test_r2', color='blue', fontsize=12)\n",
    "\n",
    "plt.xticks(range(len(max_depths)), xticks)\n",
    "plt.show()"
   ]
  },
  {
   "cell_type": "markdown",
   "id": "1932e5a5",
   "metadata": {},
   "source": [
    "## 개선해보기"
   ]
  },
  {
   "cell_type": "code",
   "execution_count": 44,
   "id": "8e31f565",
   "metadata": {},
   "outputs": [
    {
     "data": {
      "text/html": [
       "<style>#sk-container-id-2 {color: black;background-color: white;}#sk-container-id-2 pre{padding: 0;}#sk-container-id-2 div.sk-toggleable {background-color: white;}#sk-container-id-2 label.sk-toggleable__label {cursor: pointer;display: block;width: 100%;margin-bottom: 0;padding: 0.3em;box-sizing: border-box;text-align: center;}#sk-container-id-2 label.sk-toggleable__label-arrow:before {content: \"▸\";float: left;margin-right: 0.25em;color: #696969;}#sk-container-id-2 label.sk-toggleable__label-arrow:hover:before {color: black;}#sk-container-id-2 div.sk-estimator:hover label.sk-toggleable__label-arrow:before {color: black;}#sk-container-id-2 div.sk-toggleable__content {max-height: 0;max-width: 0;overflow: hidden;text-align: left;background-color: #f0f8ff;}#sk-container-id-2 div.sk-toggleable__content pre {margin: 0.2em;color: black;border-radius: 0.25em;background-color: #f0f8ff;}#sk-container-id-2 input.sk-toggleable__control:checked~div.sk-toggleable__content {max-height: 200px;max-width: 100%;overflow: auto;}#sk-container-id-2 input.sk-toggleable__control:checked~label.sk-toggleable__label-arrow:before {content: \"▾\";}#sk-container-id-2 div.sk-estimator input.sk-toggleable__control:checked~label.sk-toggleable__label {background-color: #d4ebff;}#sk-container-id-2 div.sk-label input.sk-toggleable__control:checked~label.sk-toggleable__label {background-color: #d4ebff;}#sk-container-id-2 input.sk-hidden--visually {border: 0;clip: rect(1px 1px 1px 1px);clip: rect(1px, 1px, 1px, 1px);height: 1px;margin: -1px;overflow: hidden;padding: 0;position: absolute;width: 1px;}#sk-container-id-2 div.sk-estimator {font-family: monospace;background-color: #f0f8ff;border: 1px dotted black;border-radius: 0.25em;box-sizing: border-box;margin-bottom: 0.5em;}#sk-container-id-2 div.sk-estimator:hover {background-color: #d4ebff;}#sk-container-id-2 div.sk-parallel-item::after {content: \"\";width: 100%;border-bottom: 1px solid gray;flex-grow: 1;}#sk-container-id-2 div.sk-label:hover label.sk-toggleable__label {background-color: #d4ebff;}#sk-container-id-2 div.sk-serial::before {content: \"\";position: absolute;border-left: 1px solid gray;box-sizing: border-box;top: 0;bottom: 0;left: 50%;z-index: 0;}#sk-container-id-2 div.sk-serial {display: flex;flex-direction: column;align-items: center;background-color: white;padding-right: 0.2em;padding-left: 0.2em;position: relative;}#sk-container-id-2 div.sk-item {position: relative;z-index: 1;}#sk-container-id-2 div.sk-parallel {display: flex;align-items: stretch;justify-content: center;background-color: white;position: relative;}#sk-container-id-2 div.sk-item::before, #sk-container-id-2 div.sk-parallel-item::before {content: \"\";position: absolute;border-left: 1px solid gray;box-sizing: border-box;top: 0;bottom: 0;left: 50%;z-index: -1;}#sk-container-id-2 div.sk-parallel-item {display: flex;flex-direction: column;z-index: 1;position: relative;background-color: white;}#sk-container-id-2 div.sk-parallel-item:first-child::after {align-self: flex-end;width: 50%;}#sk-container-id-2 div.sk-parallel-item:last-child::after {align-self: flex-start;width: 50%;}#sk-container-id-2 div.sk-parallel-item:only-child::after {width: 0;}#sk-container-id-2 div.sk-dashed-wrapped {border: 1px dashed gray;margin: 0 0.4em 0.5em 0.4em;box-sizing: border-box;padding-bottom: 0.4em;background-color: white;}#sk-container-id-2 div.sk-label label {font-family: monospace;font-weight: bold;display: inline-block;line-height: 1.2em;}#sk-container-id-2 div.sk-label-container {text-align: center;}#sk-container-id-2 div.sk-container {/* jupyter's `normalize.less` sets `[hidden] { display: none; }` but bootstrap.min.css set `[hidden] { display: none !important; }` so we also need the `!important` here to be able to override the default hidden behavior on the sphinx rendered scikit-learn.org. See: https://github.com/scikit-learn/scikit-learn/issues/21755 */display: inline-block !important;position: relative;}#sk-container-id-2 div.sk-text-repr-fallback {display: none;}</style><div id=\"sk-container-id-2\" class=\"sk-top-container\"><div class=\"sk-text-repr-fallback\"><pre>RandomForestRegressor(random_state=42)</pre><b>In a Jupyter environment, please rerun this cell to show the HTML representation or trust the notebook. <br />On GitHub, the HTML representation is unable to render, please try loading this page with nbviewer.org.</b></div><div class=\"sk-container\" hidden><div class=\"sk-item\"><div class=\"sk-estimator sk-toggleable\"><input class=\"sk-toggleable__control sk-hidden--visually\" id=\"sk-estimator-id-2\" type=\"checkbox\" checked><label for=\"sk-estimator-id-2\" class=\"sk-toggleable__label sk-toggleable__label-arrow\">RandomForestRegressor</label><div class=\"sk-toggleable__content\"><pre>RandomForestRegressor(random_state=42)</pre></div></div></div></div></div>"
      ],
      "text/plain": [
       "RandomForestRegressor(random_state=42)"
      ]
     },
     "execution_count": 44,
     "metadata": {},
     "output_type": "execute_result"
    }
   ],
   "source": [
    "model = RandomForestRegressor(random_state=42)\n",
    "model"
   ]
  },
  {
   "cell_type": "code",
   "execution_count": 45,
   "id": "1560d1fa",
   "metadata": {},
   "outputs": [],
   "source": [
    "feature_names=['station_code', '6~7_ride','distance_from_middle',\n",
    "       '7~8_ride', '8~9_ride', '9~10_ride', '10~11_ride', '11~12_ride',\n",
    "       '6~7_takeoff', '7~8_takeoff', '8~9_takeoff', '9~10_takeoff',\n",
    "       '10~11_takeoff', '11~12_takeoff', 'day',\n",
    "       'dayofweek', 'station_권역번호']"
   ]
  },
  {
   "cell_type": "code",
   "execution_count": 46,
   "id": "f994433d",
   "metadata": {},
   "outputs": [],
   "source": [
    "label_name='18~20_ride'"
   ]
  },
  {
   "cell_type": "code",
   "execution_count": 47,
   "id": "fe90fcb6",
   "metadata": {},
   "outputs": [],
   "source": [
    "X_train=df[feature_names].iloc[:315423]\n",
    "y_train=df[label_name].iloc[:315423]\n",
    "X_test=df[feature_names].iloc[315423:415423]\n",
    "y_test=df[label_name].iloc[315423:415423]"
   ]
  },
  {
   "cell_type": "code",
   "execution_count": 46,
   "id": "8a08f166",
   "metadata": {
    "scrolled": true
   },
   "outputs": [
    {
     "name": "stdout",
     "output_type": "stream",
     "text": [
      "Fitting 3 folds for each of 3 candidates, totalling 9 fits\n"
     ]
    },
    {
     "data": {
      "text/html": [
       "<style>#sk-container-id-3 {color: black;background-color: white;}#sk-container-id-3 pre{padding: 0;}#sk-container-id-3 div.sk-toggleable {background-color: white;}#sk-container-id-3 label.sk-toggleable__label {cursor: pointer;display: block;width: 100%;margin-bottom: 0;padding: 0.3em;box-sizing: border-box;text-align: center;}#sk-container-id-3 label.sk-toggleable__label-arrow:before {content: \"▸\";float: left;margin-right: 0.25em;color: #696969;}#sk-container-id-3 label.sk-toggleable__label-arrow:hover:before {color: black;}#sk-container-id-3 div.sk-estimator:hover label.sk-toggleable__label-arrow:before {color: black;}#sk-container-id-3 div.sk-toggleable__content {max-height: 0;max-width: 0;overflow: hidden;text-align: left;background-color: #f0f8ff;}#sk-container-id-3 div.sk-toggleable__content pre {margin: 0.2em;color: black;border-radius: 0.25em;background-color: #f0f8ff;}#sk-container-id-3 input.sk-toggleable__control:checked~div.sk-toggleable__content {max-height: 200px;max-width: 100%;overflow: auto;}#sk-container-id-3 input.sk-toggleable__control:checked~label.sk-toggleable__label-arrow:before {content: \"▾\";}#sk-container-id-3 div.sk-estimator input.sk-toggleable__control:checked~label.sk-toggleable__label {background-color: #d4ebff;}#sk-container-id-3 div.sk-label input.sk-toggleable__control:checked~label.sk-toggleable__label {background-color: #d4ebff;}#sk-container-id-3 input.sk-hidden--visually {border: 0;clip: rect(1px 1px 1px 1px);clip: rect(1px, 1px, 1px, 1px);height: 1px;margin: -1px;overflow: hidden;padding: 0;position: absolute;width: 1px;}#sk-container-id-3 div.sk-estimator {font-family: monospace;background-color: #f0f8ff;border: 1px dotted black;border-radius: 0.25em;box-sizing: border-box;margin-bottom: 0.5em;}#sk-container-id-3 div.sk-estimator:hover {background-color: #d4ebff;}#sk-container-id-3 div.sk-parallel-item::after {content: \"\";width: 100%;border-bottom: 1px solid gray;flex-grow: 1;}#sk-container-id-3 div.sk-label:hover label.sk-toggleable__label {background-color: #d4ebff;}#sk-container-id-3 div.sk-serial::before {content: \"\";position: absolute;border-left: 1px solid gray;box-sizing: border-box;top: 0;bottom: 0;left: 50%;z-index: 0;}#sk-container-id-3 div.sk-serial {display: flex;flex-direction: column;align-items: center;background-color: white;padding-right: 0.2em;padding-left: 0.2em;position: relative;}#sk-container-id-3 div.sk-item {position: relative;z-index: 1;}#sk-container-id-3 div.sk-parallel {display: flex;align-items: stretch;justify-content: center;background-color: white;position: relative;}#sk-container-id-3 div.sk-item::before, #sk-container-id-3 div.sk-parallel-item::before {content: \"\";position: absolute;border-left: 1px solid gray;box-sizing: border-box;top: 0;bottom: 0;left: 50%;z-index: -1;}#sk-container-id-3 div.sk-parallel-item {display: flex;flex-direction: column;z-index: 1;position: relative;background-color: white;}#sk-container-id-3 div.sk-parallel-item:first-child::after {align-self: flex-end;width: 50%;}#sk-container-id-3 div.sk-parallel-item:last-child::after {align-self: flex-start;width: 50%;}#sk-container-id-3 div.sk-parallel-item:only-child::after {width: 0;}#sk-container-id-3 div.sk-dashed-wrapped {border: 1px dashed gray;margin: 0 0.4em 0.5em 0.4em;box-sizing: border-box;padding-bottom: 0.4em;background-color: white;}#sk-container-id-3 div.sk-label label {font-family: monospace;font-weight: bold;display: inline-block;line-height: 1.2em;}#sk-container-id-3 div.sk-label-container {text-align: center;}#sk-container-id-3 div.sk-container {/* jupyter's `normalize.less` sets `[hidden] { display: none; }` but bootstrap.min.css set `[hidden] { display: none !important; }` so we also need the `!important` here to be able to override the default hidden behavior on the sphinx rendered scikit-learn.org. See: https://github.com/scikit-learn/scikit-learn/issues/21755 */display: inline-block !important;position: relative;}#sk-container-id-3 div.sk-text-repr-fallback {display: none;}</style><div id=\"sk-container-id-3\" class=\"sk-top-container\"><div class=\"sk-text-repr-fallback\"><pre>RandomizedSearchCV(cv=3, estimator=RandomForestRegressor(random_state=42),\n",
       "                   n_iter=3, n_jobs=-1,\n",
       "                   param_distributions={&#x27;max_depth&#x27;: array([10, 22, 43, 13, 24, 79, 16, 21, 21, 22]),\n",
       "                                        &#x27;n_estimators&#x27;: array([520, 424, 147, 779, 941, 567, 744, 588, 222, 636])},\n",
       "                   random_state=42, scoring=&#x27;neg_root_mean_squared_error&#x27;,\n",
       "                   verbose=2)</pre><b>In a Jupyter environment, please rerun this cell to show the HTML representation or trust the notebook. <br />On GitHub, the HTML representation is unable to render, please try loading this page with nbviewer.org.</b></div><div class=\"sk-container\" hidden><div class=\"sk-item sk-dashed-wrapped\"><div class=\"sk-label-container\"><div class=\"sk-label sk-toggleable\"><input class=\"sk-toggleable__control sk-hidden--visually\" id=\"sk-estimator-id-3\" type=\"checkbox\" ><label for=\"sk-estimator-id-3\" class=\"sk-toggleable__label sk-toggleable__label-arrow\">RandomizedSearchCV</label><div class=\"sk-toggleable__content\"><pre>RandomizedSearchCV(cv=3, estimator=RandomForestRegressor(random_state=42),\n",
       "                   n_iter=3, n_jobs=-1,\n",
       "                   param_distributions={&#x27;max_depth&#x27;: array([10, 22, 43, 13, 24, 79, 16, 21, 21, 22]),\n",
       "                                        &#x27;n_estimators&#x27;: array([520, 424, 147, 779, 941, 567, 744, 588, 222, 636])},\n",
       "                   random_state=42, scoring=&#x27;neg_root_mean_squared_error&#x27;,\n",
       "                   verbose=2)</pre></div></div></div><div class=\"sk-parallel\"><div class=\"sk-parallel-item\"><div class=\"sk-item\"><div class=\"sk-label-container\"><div class=\"sk-label sk-toggleable\"><input class=\"sk-toggleable__control sk-hidden--visually\" id=\"sk-estimator-id-4\" type=\"checkbox\" ><label for=\"sk-estimator-id-4\" class=\"sk-toggleable__label sk-toggleable__label-arrow\">estimator: RandomForestRegressor</label><div class=\"sk-toggleable__content\"><pre>RandomForestRegressor(random_state=42)</pre></div></div></div><div class=\"sk-serial\"><div class=\"sk-item\"><div class=\"sk-estimator sk-toggleable\"><input class=\"sk-toggleable__control sk-hidden--visually\" id=\"sk-estimator-id-5\" type=\"checkbox\" ><label for=\"sk-estimator-id-5\" class=\"sk-toggleable__label sk-toggleable__label-arrow\">RandomForestRegressor</label><div class=\"sk-toggleable__content\"><pre>RandomForestRegressor(random_state=42)</pre></div></div></div></div></div></div></div></div></div></div>"
      ],
      "text/plain": [
       "RandomizedSearchCV(cv=3, estimator=RandomForestRegressor(random_state=42),\n",
       "                   n_iter=3, n_jobs=-1,\n",
       "                   param_distributions={'max_depth': array([10, 22, 43, 13, 24, 79, 16, 21, 21, 22]),\n",
       "                                        'n_estimators': array([520, 424, 147, 779, 941, 567, 744, 588, 222, 636])},\n",
       "                   random_state=42, scoring='neg_root_mean_squared_error',\n",
       "                   verbose=2)"
      ]
     },
     "execution_count": 46,
     "metadata": {},
     "output_type": "execute_result"
    }
   ],
   "source": [
    "from sklearn.model_selection import RandomizedSearchCV\n",
    "\n",
    "param_distributions = {\"n_estimators\": np.random.randint(100, 1000, 10), \n",
    "                      \"max_depth\" :  np.random.randint(5, 100, 10)}\n",
    "\n",
    "clf = RandomizedSearchCV(model, \n",
    "                         param_distributions=param_distributions, \n",
    "                         n_iter=3, cv=3, n_jobs=-1, verbose=2, \n",
    "                         scoring=\"neg_root_mean_squared_error\",random_state=42)\n",
    "clf.fit(X_train, y_train)"
   ]
  },
  {
   "cell_type": "code",
   "execution_count": 47,
   "id": "f7445e64",
   "metadata": {},
   "outputs": [
    {
     "data": {
      "text/html": [
       "<style>#sk-container-id-4 {color: black;background-color: white;}#sk-container-id-4 pre{padding: 0;}#sk-container-id-4 div.sk-toggleable {background-color: white;}#sk-container-id-4 label.sk-toggleable__label {cursor: pointer;display: block;width: 100%;margin-bottom: 0;padding: 0.3em;box-sizing: border-box;text-align: center;}#sk-container-id-4 label.sk-toggleable__label-arrow:before {content: \"▸\";float: left;margin-right: 0.25em;color: #696969;}#sk-container-id-4 label.sk-toggleable__label-arrow:hover:before {color: black;}#sk-container-id-4 div.sk-estimator:hover label.sk-toggleable__label-arrow:before {color: black;}#sk-container-id-4 div.sk-toggleable__content {max-height: 0;max-width: 0;overflow: hidden;text-align: left;background-color: #f0f8ff;}#sk-container-id-4 div.sk-toggleable__content pre {margin: 0.2em;color: black;border-radius: 0.25em;background-color: #f0f8ff;}#sk-container-id-4 input.sk-toggleable__control:checked~div.sk-toggleable__content {max-height: 200px;max-width: 100%;overflow: auto;}#sk-container-id-4 input.sk-toggleable__control:checked~label.sk-toggleable__label-arrow:before {content: \"▾\";}#sk-container-id-4 div.sk-estimator input.sk-toggleable__control:checked~label.sk-toggleable__label {background-color: #d4ebff;}#sk-container-id-4 div.sk-label input.sk-toggleable__control:checked~label.sk-toggleable__label {background-color: #d4ebff;}#sk-container-id-4 input.sk-hidden--visually {border: 0;clip: rect(1px 1px 1px 1px);clip: rect(1px, 1px, 1px, 1px);height: 1px;margin: -1px;overflow: hidden;padding: 0;position: absolute;width: 1px;}#sk-container-id-4 div.sk-estimator {font-family: monospace;background-color: #f0f8ff;border: 1px dotted black;border-radius: 0.25em;box-sizing: border-box;margin-bottom: 0.5em;}#sk-container-id-4 div.sk-estimator:hover {background-color: #d4ebff;}#sk-container-id-4 div.sk-parallel-item::after {content: \"\";width: 100%;border-bottom: 1px solid gray;flex-grow: 1;}#sk-container-id-4 div.sk-label:hover label.sk-toggleable__label {background-color: #d4ebff;}#sk-container-id-4 div.sk-serial::before {content: \"\";position: absolute;border-left: 1px solid gray;box-sizing: border-box;top: 0;bottom: 0;left: 50%;z-index: 0;}#sk-container-id-4 div.sk-serial {display: flex;flex-direction: column;align-items: center;background-color: white;padding-right: 0.2em;padding-left: 0.2em;position: relative;}#sk-container-id-4 div.sk-item {position: relative;z-index: 1;}#sk-container-id-4 div.sk-parallel {display: flex;align-items: stretch;justify-content: center;background-color: white;position: relative;}#sk-container-id-4 div.sk-item::before, #sk-container-id-4 div.sk-parallel-item::before {content: \"\";position: absolute;border-left: 1px solid gray;box-sizing: border-box;top: 0;bottom: 0;left: 50%;z-index: -1;}#sk-container-id-4 div.sk-parallel-item {display: flex;flex-direction: column;z-index: 1;position: relative;background-color: white;}#sk-container-id-4 div.sk-parallel-item:first-child::after {align-self: flex-end;width: 50%;}#sk-container-id-4 div.sk-parallel-item:last-child::after {align-self: flex-start;width: 50%;}#sk-container-id-4 div.sk-parallel-item:only-child::after {width: 0;}#sk-container-id-4 div.sk-dashed-wrapped {border: 1px dashed gray;margin: 0 0.4em 0.5em 0.4em;box-sizing: border-box;padding-bottom: 0.4em;background-color: white;}#sk-container-id-4 div.sk-label label {font-family: monospace;font-weight: bold;display: inline-block;line-height: 1.2em;}#sk-container-id-4 div.sk-label-container {text-align: center;}#sk-container-id-4 div.sk-container {/* jupyter's `normalize.less` sets `[hidden] { display: none; }` but bootstrap.min.css set `[hidden] { display: none !important; }` so we also need the `!important` here to be able to override the default hidden behavior on the sphinx rendered scikit-learn.org. See: https://github.com/scikit-learn/scikit-learn/issues/21755 */display: inline-block !important;position: relative;}#sk-container-id-4 div.sk-text-repr-fallback {display: none;}</style><div id=\"sk-container-id-4\" class=\"sk-top-container\"><div class=\"sk-text-repr-fallback\"><pre>RandomForestRegressor(max_depth=21, n_estimators=779, random_state=42)</pre><b>In a Jupyter environment, please rerun this cell to show the HTML representation or trust the notebook. <br />On GitHub, the HTML representation is unable to render, please try loading this page with nbviewer.org.</b></div><div class=\"sk-container\" hidden><div class=\"sk-item\"><div class=\"sk-estimator sk-toggleable\"><input class=\"sk-toggleable__control sk-hidden--visually\" id=\"sk-estimator-id-6\" type=\"checkbox\" checked><label for=\"sk-estimator-id-6\" class=\"sk-toggleable__label sk-toggleable__label-arrow\">RandomForestRegressor</label><div class=\"sk-toggleable__content\"><pre>RandomForestRegressor(max_depth=21, n_estimators=779, random_state=42)</pre></div></div></div></div></div>"
      ],
      "text/plain": [
       "RandomForestRegressor(max_depth=21, n_estimators=779, random_state=42)"
      ]
     },
     "execution_count": 47,
     "metadata": {},
     "output_type": "execute_result"
    }
   ],
   "source": [
    "clf.best_estimator_"
   ]
  },
  {
   "cell_type": "code",
   "execution_count": 48,
   "id": "d2f87cba",
   "metadata": {},
   "outputs": [
    {
     "data": {
      "text/plain": [
       "-3.0358637707490814"
      ]
     },
     "execution_count": 48,
     "metadata": {},
     "output_type": "execute_result"
    }
   ],
   "source": [
    "clf.best_score_"
   ]
  },
  {
   "cell_type": "code",
   "execution_count": 49,
   "id": "767d0ce0",
   "metadata": {},
   "outputs": [
    {
     "data": {
      "text/html": [
       "<style>#sk-container-id-5 {color: black;background-color: white;}#sk-container-id-5 pre{padding: 0;}#sk-container-id-5 div.sk-toggleable {background-color: white;}#sk-container-id-5 label.sk-toggleable__label {cursor: pointer;display: block;width: 100%;margin-bottom: 0;padding: 0.3em;box-sizing: border-box;text-align: center;}#sk-container-id-5 label.sk-toggleable__label-arrow:before {content: \"▸\";float: left;margin-right: 0.25em;color: #696969;}#sk-container-id-5 label.sk-toggleable__label-arrow:hover:before {color: black;}#sk-container-id-5 div.sk-estimator:hover label.sk-toggleable__label-arrow:before {color: black;}#sk-container-id-5 div.sk-toggleable__content {max-height: 0;max-width: 0;overflow: hidden;text-align: left;background-color: #f0f8ff;}#sk-container-id-5 div.sk-toggleable__content pre {margin: 0.2em;color: black;border-radius: 0.25em;background-color: #f0f8ff;}#sk-container-id-5 input.sk-toggleable__control:checked~div.sk-toggleable__content {max-height: 200px;max-width: 100%;overflow: auto;}#sk-container-id-5 input.sk-toggleable__control:checked~label.sk-toggleable__label-arrow:before {content: \"▾\";}#sk-container-id-5 div.sk-estimator input.sk-toggleable__control:checked~label.sk-toggleable__label {background-color: #d4ebff;}#sk-container-id-5 div.sk-label input.sk-toggleable__control:checked~label.sk-toggleable__label {background-color: #d4ebff;}#sk-container-id-5 input.sk-hidden--visually {border: 0;clip: rect(1px 1px 1px 1px);clip: rect(1px, 1px, 1px, 1px);height: 1px;margin: -1px;overflow: hidden;padding: 0;position: absolute;width: 1px;}#sk-container-id-5 div.sk-estimator {font-family: monospace;background-color: #f0f8ff;border: 1px dotted black;border-radius: 0.25em;box-sizing: border-box;margin-bottom: 0.5em;}#sk-container-id-5 div.sk-estimator:hover {background-color: #d4ebff;}#sk-container-id-5 div.sk-parallel-item::after {content: \"\";width: 100%;border-bottom: 1px solid gray;flex-grow: 1;}#sk-container-id-5 div.sk-label:hover label.sk-toggleable__label {background-color: #d4ebff;}#sk-container-id-5 div.sk-serial::before {content: \"\";position: absolute;border-left: 1px solid gray;box-sizing: border-box;top: 0;bottom: 0;left: 50%;z-index: 0;}#sk-container-id-5 div.sk-serial {display: flex;flex-direction: column;align-items: center;background-color: white;padding-right: 0.2em;padding-left: 0.2em;position: relative;}#sk-container-id-5 div.sk-item {position: relative;z-index: 1;}#sk-container-id-5 div.sk-parallel {display: flex;align-items: stretch;justify-content: center;background-color: white;position: relative;}#sk-container-id-5 div.sk-item::before, #sk-container-id-5 div.sk-parallel-item::before {content: \"\";position: absolute;border-left: 1px solid gray;box-sizing: border-box;top: 0;bottom: 0;left: 50%;z-index: -1;}#sk-container-id-5 div.sk-parallel-item {display: flex;flex-direction: column;z-index: 1;position: relative;background-color: white;}#sk-container-id-5 div.sk-parallel-item:first-child::after {align-self: flex-end;width: 50%;}#sk-container-id-5 div.sk-parallel-item:last-child::after {align-self: flex-start;width: 50%;}#sk-container-id-5 div.sk-parallel-item:only-child::after {width: 0;}#sk-container-id-5 div.sk-dashed-wrapped {border: 1px dashed gray;margin: 0 0.4em 0.5em 0.4em;box-sizing: border-box;padding-bottom: 0.4em;background-color: white;}#sk-container-id-5 div.sk-label label {font-family: monospace;font-weight: bold;display: inline-block;line-height: 1.2em;}#sk-container-id-5 div.sk-label-container {text-align: center;}#sk-container-id-5 div.sk-container {/* jupyter's `normalize.less` sets `[hidden] { display: none; }` but bootstrap.min.css set `[hidden] { display: none !important; }` so we also need the `!important` here to be able to override the default hidden behavior on the sphinx rendered scikit-learn.org. See: https://github.com/scikit-learn/scikit-learn/issues/21755 */display: inline-block !important;position: relative;}#sk-container-id-5 div.sk-text-repr-fallback {display: none;}</style><div id=\"sk-container-id-5\" class=\"sk-top-container\"><div class=\"sk-text-repr-fallback\"><pre>RandomForestRegressor(max_depth=21, n_estimators=779, random_state=42)</pre><b>In a Jupyter environment, please rerun this cell to show the HTML representation or trust the notebook. <br />On GitHub, the HTML representation is unable to render, please try loading this page with nbviewer.org.</b></div><div class=\"sk-container\" hidden><div class=\"sk-item\"><div class=\"sk-estimator sk-toggleable\"><input class=\"sk-toggleable__control sk-hidden--visually\" id=\"sk-estimator-id-7\" type=\"checkbox\" checked><label for=\"sk-estimator-id-7\" class=\"sk-toggleable__label sk-toggleable__label-arrow\">RandomForestRegressor</label><div class=\"sk-toggleable__content\"><pre>RandomForestRegressor(max_depth=21, n_estimators=779, random_state=42)</pre></div></div></div></div></div>"
      ],
      "text/plain": [
       "RandomForestRegressor(max_depth=21, n_estimators=779, random_state=42)"
      ]
     },
     "execution_count": 49,
     "metadata": {},
     "output_type": "execute_result"
    }
   ],
   "source": [
    "best_model=clf.best_estimator_\n",
    "best_model.fit(X_train, y_train)"
   ]
  },
  {
   "cell_type": "code",
   "execution_count": 50,
   "id": "a1d90289",
   "metadata": {},
   "outputs": [],
   "source": [
    "y_predict = best_model.predict(X_test)"
   ]
  },
  {
   "cell_type": "code",
   "execution_count": 51,
   "id": "f4807b48",
   "metadata": {},
   "outputs": [],
   "source": [
    "mse = mean_squared_error(y_test, y_predict)"
   ]
  },
  {
   "cell_type": "code",
   "execution_count": 52,
   "id": "89a339be",
   "metadata": {},
   "outputs": [
    {
     "data": {
      "text/plain": [
       "2.785581866548595"
      ]
     },
     "execution_count": 52,
     "metadata": {},
     "output_type": "execute_result"
    }
   ],
   "source": [
    "np.sqrt(mse)"
   ]
  },
  {
   "cell_type": "code",
   "execution_count": null,
   "id": "01f597d5",
   "metadata": {},
   "outputs": [],
   "source": []
  }
 ],
 "metadata": {
  "kernelspec": {
   "display_name": "Python 3 (ipykernel)",
   "language": "python",
   "name": "python3"
  },
  "language_info": {
   "codemirror_mode": {
    "name": "ipython",
    "version": 3
   },
   "file_extension": ".py",
   "mimetype": "text/x-python",
   "name": "python",
   "nbconvert_exporter": "python",
   "pygments_lexer": "ipython3",
   "version": "3.9.7"
  },
  "toc": {
   "base_numbering": 1,
   "nav_menu": {},
   "number_sections": true,
   "sideBar": true,
   "skip_h1_title": false,
   "title_cell": "Table of Contents",
   "title_sidebar": "Contents",
   "toc_cell": false,
   "toc_position": {},
   "toc_section_display": true,
   "toc_window_display": false
  }
 },
 "nbformat": 4,
 "nbformat_minor": 5
}
