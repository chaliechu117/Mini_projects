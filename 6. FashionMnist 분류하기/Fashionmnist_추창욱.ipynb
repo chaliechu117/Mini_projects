{
 "cells": [
  {
   "cell_type": "markdown",
   "id": "9b7fbc46",
   "metadata": {},
   "source": [
    "### 필요한 라이브러리 불러오기"
   ]
  },
  {
   "cell_type": "code",
   "execution_count": 1,
   "id": "9513aa58",
   "metadata": {},
   "outputs": [],
   "source": [
    "import numpy as np\n",
    "import pandas as pd\n",
    "import matplotlib.pyplot as plt"
   ]
  },
  {
   "cell_type": "code",
   "execution_count": 2,
   "id": "6b70070a",
   "metadata": {},
   "outputs": [],
   "source": [
    "import tensorflow as tf\n",
    "from tensorflow.keras import Sequential\n",
    "from tensorflow.keras.layers import Conv2D, MaxPool2D, Dropout, Flatten, Dense\n",
    "from tensorflow.keras.utils import plot_model\n",
    "from tensorflow.keras.callbacks import EarlyStopping, ModelCheckpoint\n",
    "from tensorflow import keras\n",
    "\n",
    "from sklearn.model_selection import train_test_split"
   ]
  },
  {
   "cell_type": "markdown",
   "id": "6c9356c4",
   "metadata": {},
   "source": [
    "### Fashion MNIST 데이터셋 불러오기"
   ]
  },
  {
   "cell_type": "code",
   "execution_count": 3,
   "id": "890ee3c9",
   "metadata": {},
   "outputs": [],
   "source": [
    "fashion_mnist = tf.keras.datasets.fashion_mnist\n",
    "(train_images, train_labels), (test_images, test_labels) = fashion_mnist.load_data()"
   ]
  },
  {
   "cell_type": "markdown",
   "id": "e5373b2c",
   "metadata": {},
   "source": [
    "### 데이터 살펴보기"
   ]
  },
  {
   "cell_type": "code",
   "execution_count": 4,
   "id": "88ceb2e8",
   "metadata": {},
   "outputs": [
    {
     "data": {
      "text/plain": [
       "((60000, 28, 28), (10000, 28, 28))"
      ]
     },
     "execution_count": 4,
     "metadata": {},
     "output_type": "execute_result"
    }
   ],
   "source": [
    "train_images.shape, test_images.shape"
   ]
  },
  {
   "cell_type": "markdown",
   "id": "67370651",
   "metadata": {},
   "source": [
    "* fashionmnist는 28 X 28의 크기를 가지고 있는 numpy array 형식의 데이터임\n",
    "* 각각 훈련용과 테스트용 데이터셋에는 60000, 10000개의 레이블이 있음"
   ]
  },
  {
   "cell_type": "code",
   "execution_count": 5,
   "id": "a1fb83e2",
   "metadata": {},
   "outputs": [
    {
     "data": {
      "text/plain": [
       "(array([9, 0, 0, ..., 3, 0, 5], dtype=uint8),\n",
       " array([9, 2, 1, ..., 8, 1, 5], dtype=uint8))"
      ]
     },
     "execution_count": 5,
     "metadata": {},
     "output_type": "execute_result"
    }
   ],
   "source": [
    "train_labels, test_labels"
   ]
  },
  {
   "cell_type": "markdown",
   "id": "b4d4e300",
   "metadata": {},
   "source": [
    "레이블의 경우 0 ~ 9로 이루어진 데이터이다. 각 숫자가 의미하는 바는 다음과 같다.  \n",
    "0 : T-shirt/top  \n",
    "1 : Trouser  \n",
    "2 : Pullover  \n",
    "3 : Dress  \n",
    "4 : Coat  \n",
    "5 : Sandal  \n",
    "6 : Shirt  \n",
    "7 : Sneaker  \n",
    "8 : Bag  \n",
    "9 : Ankel boot  \n",
    "이다."
   ]
  },
  {
   "cell_type": "markdown",
   "id": "4dacca98",
   "metadata": {},
   "source": [
    "### 각 데이터셋의 첫번째 이미지를 시각화해보기"
   ]
  },
  {
   "cell_type": "code",
   "execution_count": 6,
   "id": "8ab16652",
   "metadata": {},
   "outputs": [
    {
     "data": {
      "text/plain": [
       "<matplotlib.image.AxesImage at 0x7f218fa61bb0>"
      ]
     },
     "execution_count": 6,
     "metadata": {},
     "output_type": "execute_result"
    },
    {
     "data": {
      "image/png": "[encoded data removed]",
      "text/plain": [
       "<Figure size 432x288 with 1 Axes>"
      ]
     },
     "metadata": {
      "needs_background": "light"
     },
     "output_type": "display_data"
    }
   ],
   "source": [
    "plt.imshow(train_images[0])"
   ]
  },
  {
   "cell_type": "code",
   "execution_count": 7,
   "id": "e366e2f6",
   "metadata": {},
   "outputs": [
    {
     "data": {
      "text/plain": [
       "<matplotlib.image.AxesImage at 0x7f218d95af70>"
      ]
     },
     "execution_count": 7,
     "metadata": {},
     "output_type": "execute_result"
    },
    {
     "data": {
      "image/png": "[encoded data removed]",
      "text/plain": [
       "<Figure size 432x288 with 1 Axes>"
      ]
     },
     "metadata": {
      "needs_background": "light"
     },
     "output_type": "display_data"
    }
   ],
   "source": [
    "plt.imshow(test_images[0])"
   ]
  },
  {
   "cell_type": "code",
   "execution_count": 8,
   "id": "8b6c06e1",
   "metadata": {},
   "outputs": [
    {
     "data": {
      "text/plain": [
       "array([9, 0, 0, ..., 3, 0, 5], dtype=uint8)"
      ]
     },
     "execution_count": 8,
     "metadata": {},
     "output_type": "execute_result"
    }
   ],
   "source": [
    "train_labels"
   ]
  },
  {
   "cell_type": "markdown",
   "id": "475ba8fb",
   "metadata": {},
   "source": [
    "### Array 속 가장 큰수와 가장 작은 수 확인하기"
   ]
  },
  {
   "cell_type": "code",
   "execution_count": 9,
   "id": "cbaed74b",
   "metadata": {},
   "outputs": [
    {
     "name": "stdout",
     "output_type": "stream",
     "text": [
      "Train Data \n",
      "가장 큰수 : 255 \n",
      "가장 작은수: 0\n"
     ]
    }
   ],
   "source": [
    "print(f'Train Data \\n가장 큰수 : {train_images.max()} \\n가장 작은수: {train_images.min()}')"
   ]
  },
  {
   "cell_type": "code",
   "execution_count": 10,
   "id": "2726c075",
   "metadata": {},
   "outputs": [
    {
     "name": "stdout",
     "output_type": "stream",
     "text": [
      "Test Data \n",
      "가장 큰수 : 255 \n",
      "가장 작은수: 0\n"
     ]
    }
   ],
   "source": [
    "print(f'Test Data \\n가장 큰수 : {test_images.max()} \\n가장 작은수: {test_images.min()}')"
   ]
  },
  {
   "cell_type": "markdown",
   "id": "09a4d547",
   "metadata": {},
   "source": [
    "### 데이터 전처리하기"
   ]
  },
  {
   "cell_type": "code",
   "execution_count": 11,
   "id": "0b84bf9f",
   "metadata": {},
   "outputs": [],
   "source": [
    "train_images = train_images.reshape(-1, 28, 28, 1) / 255"
   ]
  },
  {
   "cell_type": "code",
   "execution_count": 12,
   "id": "c08dc57e",
   "metadata": {
    "scrolled": true
   },
   "outputs": [],
   "source": [
    "train_images, val_images, train_labels, val_labels = train_test_split(train_images, \n",
    "                                                                      train_labels, \n",
    "                                                                      test_size=0.2, \n",
    "                                                                      random_state=42)"
   ]
  },
  {
   "cell_type": "markdown",
   "id": "f1acaede",
   "metadata": {},
   "source": [
    "* 이 데이터는 현재 0 ~ 255 사이의 값을 가지고 있는데 이를 0 ~ 1 사이로 바꾸어 훈련 세트와 검증 세트로 나누어 준다.\n",
    "* 완전 연결 신경망에서는 입력 이미지를 밀집층에 연겨하기 위해 일려로 펼치는 작업을 수행하는데 그것을 reshape() 혹은 flatten()을 이용한다. 하지만 합성곱 신경망은 2차원 이미지를 그대로 이용하기 때문에 일려로 펼치지 않는다.\n",
    "* BUT!! 입력 이미지는 항상 채널차원이 있어야 한다. 지금 하고 있는 패션 mnist는 흑백이미지기 때문에 채널 차원을 추가해야 하므로, reshape()를 이용하여 전체 배열 차원을 그대로 유지하면서 마지막에 차원을 간단히 추가하는 작업을 수행해준다."
   ]
  },
  {
   "cell_type": "code",
   "execution_count": 13,
   "id": "a22b2f43",
   "metadata": {},
   "outputs": [
    {
     "data": {
      "text/plain": [
       "((48000, 28, 28, 1), (12000, 28, 28, 1))"
      ]
     },
     "execution_count": 13,
     "metadata": {},
     "output_type": "execute_result"
    }
   ],
   "source": [
    "train_images.shape, val_images.shape"
   ]
  },
  {
   "cell_type": "markdown",
   "id": "d14ca319",
   "metadata": {},
   "source": [
    "* 위의 결과에서 확인할 수 있다시피 하나의 채널이 생긴 것을 확인 할 수 있다."
   ]
  },
  {
   "cell_type": "markdown",
   "id": "bbdeaec0",
   "metadata": {},
   "source": [
    "### CNN 모델 구축하기"
   ]
  },
  {
   "cell_type": "code",
   "execution_count": 14,
   "id": "6be02acb",
   "metadata": {
    "scrolled": true
   },
   "outputs": [
    {
     "name": "stderr",
     "output_type": "stream",
     "text": [
      "2022-07-13 17:22:36.506269: I tensorflow/core/platform/cpu_feature_guard.cc:152] This TensorFlow binary is optimized with oneAPI Deep Neural Network Library (oneDNN) to use the following CPU instructions in performance-critical operations:  SSE3 SSE4.1 SSE4.2 AVX\n",
      "To enable them in other operations, rebuild TensorFlow with the appropriate compiler flags.\n",
      "2022-07-13 17:22:37.274701: I tensorflow/core/common_runtime/gpu/gpu_device.cc:1525] Created device /job:localhost/replica:0/task:0/device:GPU:0 with 6691 MB memory:  -> device: 0, name: CUDA GPU, pci bus id: 0000:40:00.0, compute capability: 7.5\n"
     ]
    }
   ],
   "source": [
    "model = Sequential()\n",
    "\n",
    "# 입력층\n",
    "model.add(Conv2D(filters=32, kernel_size=(3,3), activation='relu', input_shape=(28,28,1)))\n",
    "model.add(MaxPool2D(2,2))\n",
    "model.add(Dropout(0.2))\n",
    "\n",
    "model.add(Conv2D(filters=64, kernel_size=(3,3), padding='same', activation='relu'))\n",
    "model.add(MaxPool2D(2,2))\n",
    "model.add(Dropout(0.2))\n",
    "\n",
    "model.add(Conv2D(filters=128, kernel_size=(3,3), padding='same', activation='relu'))\n",
    "model.add(MaxPool2D(2,2))\n",
    "model.add(Dropout(0.2))\n",
    "\n",
    "# Fully-connected layer\n",
    "model.add(Flatten())\n",
    "model.add(Dense(100, activation='relu'))\n",
    "model.add(Dropout(0.4))\n",
    "\n",
    "# 출력층\n",
    "model.add(Dense(10, activation='softmax'))"
   ]
  },
  {
   "cell_type": "markdown",
   "id": "5ebb290b",
   "metadata": {},
   "source": [
    "### 모델 요약"
   ]
  },
  {
   "cell_type": "code",
   "execution_count": 15,
   "id": "45bf9013",
   "metadata": {
    "scrolled": false
   },
   "outputs": [
    {
     "name": "stdout",
     "output_type": "stream",
     "text": [
      "Model: \"sequential\"\n",
      "_________________________________________________________________\n",
      " Layer (type)                Output Shape              Param #   \n",
      "=================================================================\n",
      " conv2d (Conv2D)             (None, 26, 26, 32)        320       \n",
      "                                                                 \n",
      " max_pooling2d (MaxPooling2D  (None, 13, 13, 32)       0         \n",
      " )                                                               \n",
      "                                                                 \n",
      " dropout (Dropout)           (None, 13, 13, 32)        0         \n",
      "                                                                 \n",
      " conv2d_1 (Conv2D)           (None, 13, 13, 64)        18496     \n",
      "                                                                 \n",
      " max_pooling2d_1 (MaxPooling  (None, 6, 6, 64)         0         \n",
      " 2D)                                                             \n",
      "                                                                 \n",
      " dropout_1 (Dropout)         (None, 6, 6, 64)          0         \n",
      "                                                                 \n",
      " conv2d_2 (Conv2D)           (None, 6, 6, 128)         73856     \n",
      "                                                                 \n",
      " max_pooling2d_2 (MaxPooling  (None, 3, 3, 128)        0         \n",
      " 2D)                                                             \n",
      "                                                                 \n",
      " dropout_2 (Dropout)         (None, 3, 3, 128)         0         \n",
      "                                                                 \n",
      " flatten (Flatten)           (None, 1152)              0         \n",
      "                                                                 \n",
      " dense (Dense)               (None, 100)               115300    \n",
      "                                                                 \n",
      " dropout_3 (Dropout)         (None, 100)               0         \n",
      "                                                                 \n",
      " dense_1 (Dense)             (None, 10)                1010      \n",
      "                                                                 \n",
      "=================================================================\n",
      "Total params: 208,982\n",
      "Trainable params: 208,982\n",
      "Non-trainable params: 0\n",
      "_________________________________________________________________\n"
     ]
    }
   ],
   "source": [
    "model.summary()"
   ]
  },
  {
   "cell_type": "markdown",
   "id": "2b5119db",
   "metadata": {},
   "source": [
    "### 모델의 흐름을 살펴보자"
   ]
  },
  {
   "cell_type": "code",
   "execution_count": 16,
   "id": "b3610b08",
   "metadata": {},
   "outputs": [
    {
     "name": "stdout",
     "output_type": "stream",
     "text": [
      "('You must install pydot (`pip install pydot`) and install graphviz (see instructions at https://graphviz.gitlab.io/download/) ', 'for plot_model/model_to_dot to work.')\n"
     ]
    }
   ],
   "source": [
    "keras.utils.plot_model(model, show_shapes = True)"
   ]
  },
  {
   "cell_type": "markdown",
   "id": "afca6682",
   "metadata": {},
   "source": [
    "* 백앤드 ai에서는 plot_model이 안되는거 같다."
   ]
  },
  {
   "cell_type": "markdown",
   "id": "297a6adc",
   "metadata": {},
   "source": [
    "### 모델 컴파일 하기"
   ]
  },
  {
   "cell_type": "code",
   "execution_count": 17,
   "id": "5f598074",
   "metadata": {},
   "outputs": [],
   "source": [
    "model.compile(optimizer='adam',\n",
    "              loss='sparse_categorical_crossentropy',\n",
    "              metrics=['accuracy'])"
   ]
  },
  {
   "cell_type": "code",
   "execution_count": 18,
   "id": "6e98b3d6",
   "metadata": {},
   "outputs": [],
   "source": [
    "early_stop = EarlyStopping(monitor='val_loss', patience=3)"
   ]
  },
  {
   "cell_type": "markdown",
   "id": "4ff5f867",
   "metadata": {},
   "source": [
    "### 모델 훈련하기"
   ]
  },
  {
   "cell_type": "code",
   "execution_count": 19,
   "id": "a1f71869",
   "metadata": {
    "scrolled": true
   },
   "outputs": [
    {
     "name": "stdout",
     "output_type": "stream",
     "text": [
      "Epoch 1/100\n"
     ]
    },
    {
     "name": "stderr",
     "output_type": "stream",
     "text": [
      "2022-07-13 17:22:40.034236: I tensorflow/stream_executor/cuda/cuda_dnn.cc:379] Loaded cuDNN version 8303\n"
     ]
    },
    {
     "name": "stdout",
     "output_type": "stream",
     "text": [
      "1500/1500 [==============================] - 42s 19ms/step - loss: 0.6232 - accuracy: 0.7717 - val_loss: 0.3649 - val_accuracy: 0.8654\n",
      "Epoch 2/100\n",
      "1500/1500 [==============================] - 8s 5ms/step - loss: 0.3966 - accuracy: 0.8573 - val_loss: 0.3366 - val_accuracy: 0.8748\n",
      "Epoch 3/100\n",
      "1500/1500 [==============================] - 8s 5ms/step - loss: 0.3435 - accuracy: 0.8760 - val_loss: 0.2734 - val_accuracy: 0.8983\n",
      "Epoch 4/100\n",
      "1500/1500 [==============================] - 8s 5ms/step - loss: 0.3178 - accuracy: 0.8832 - val_loss: 0.2762 - val_accuracy: 0.8964\n",
      "Epoch 5/100\n",
      "1500/1500 [==============================] - 8s 5ms/step - loss: 0.2981 - accuracy: 0.8914 - val_loss: 0.2578 - val_accuracy: 0.9033\n",
      "Epoch 6/100\n",
      "1500/1500 [==============================] - 8s 5ms/step - loss: 0.2833 - accuracy: 0.8962 - val_loss: 0.2673 - val_accuracy: 0.8976\n",
      "Epoch 7/100\n",
      "1500/1500 [==============================] - 8s 5ms/step - loss: 0.2717 - accuracy: 0.9013 - val_loss: 0.2580 - val_accuracy: 0.9062\n",
      "Epoch 8/100\n",
      "1500/1500 [==============================] - 8s 5ms/step - loss: 0.2610 - accuracy: 0.9035 - val_loss: 0.2372 - val_accuracy: 0.9128\n",
      "Epoch 9/100\n",
      "1500/1500 [==============================] - 8s 5ms/step - loss: 0.2537 - accuracy: 0.9062 - val_loss: 0.2267 - val_accuracy: 0.9152\n",
      "Epoch 10/100\n",
      "1500/1500 [==============================] - 8s 5ms/step - loss: 0.2465 - accuracy: 0.9077 - val_loss: 0.2271 - val_accuracy: 0.9162\n",
      "Epoch 11/100\n",
      "1500/1500 [==============================] - 8s 5ms/step - loss: 0.2400 - accuracy: 0.9096 - val_loss: 0.2194 - val_accuracy: 0.9190\n",
      "Epoch 12/100\n",
      "1500/1500 [==============================] - 8s 5ms/step - loss: 0.2341 - accuracy: 0.9116 - val_loss: 0.2326 - val_accuracy: 0.9144\n",
      "Epoch 13/100\n",
      "1500/1500 [==============================] - 8s 5ms/step - loss: 0.2282 - accuracy: 0.9151 - val_loss: 0.2141 - val_accuracy: 0.9218\n",
      "Epoch 14/100\n",
      "1500/1500 [==============================] - 8s 5ms/step - loss: 0.2244 - accuracy: 0.9166 - val_loss: 0.2503 - val_accuracy: 0.9069\n",
      "Epoch 15/100\n",
      "1500/1500 [==============================] - 8s 5ms/step - loss: 0.2226 - accuracy: 0.9165 - val_loss: 0.2190 - val_accuracy: 0.9194\n",
      "Epoch 16/100\n",
      "1500/1500 [==============================] - 8s 5ms/step - loss: 0.2180 - accuracy: 0.9185 - val_loss: 0.2246 - val_accuracy: 0.9187\n"
     ]
    }
   ],
   "source": [
    "history = model.fit(train_images, train_labels, epochs=100, \n",
    "                    validation_data=(val_images, val_labels),\n",
    "                    callbacks=[early_stop]\n",
    "                   )"
   ]
  },
  {
   "cell_type": "markdown",
   "id": "741b1564",
   "metadata": {},
   "source": [
    "### 모델의 결과 확인하기"
   ]
  },
  {
   "cell_type": "code",
   "execution_count": 20,
   "id": "12b67383",
   "metadata": {},
   "outputs": [
    {
     "data": {
      "text/html": [
       "<div>\n",
       "<style scoped>\n",
       "    .dataframe tbody tr th:only-of-type {\n",
       "        vertical-align: middle;\n",
       "    }\n",
       "\n",
       "    .dataframe tbody tr th {\n",
       "        vertical-align: top;\n",
       "    }\n",
       "\n",
       "    .dataframe thead th {\n",
       "        text-align: right;\n",
       "    }\n",
       "</style>\n",
       "<table border=\"1\" class=\"dataframe\">\n",
       "  <thead>\n",
       "    <tr style=\"text-align: right;\">\n",
       "      <th></th>\n",
       "      <th>loss</th>\n",
       "      <th>accuracy</th>\n",
       "      <th>val_loss</th>\n",
       "      <th>val_accuracy</th>\n",
       "    </tr>\n",
       "  </thead>\n",
       "  <tbody>\n",
       "    <tr>\n",
       "      <th>11</th>\n",
       "      <td>0.234087</td>\n",
       "      <td>0.911625</td>\n",
       "      <td>0.232647</td>\n",
       "      <td>0.914417</td>\n",
       "    </tr>\n",
       "    <tr>\n",
       "      <th>12</th>\n",
       "      <td>0.228156</td>\n",
       "      <td>0.915125</td>\n",
       "      <td>0.214072</td>\n",
       "      <td>0.921833</td>\n",
       "    </tr>\n",
       "    <tr>\n",
       "      <th>13</th>\n",
       "      <td>0.224431</td>\n",
       "      <td>0.916625</td>\n",
       "      <td>0.250276</td>\n",
       "      <td>0.906917</td>\n",
       "    </tr>\n",
       "    <tr>\n",
       "      <th>14</th>\n",
       "      <td>0.222601</td>\n",
       "      <td>0.916458</td>\n",
       "      <td>0.218978</td>\n",
       "      <td>0.919417</td>\n",
       "    </tr>\n",
       "    <tr>\n",
       "      <th>15</th>\n",
       "      <td>0.217958</td>\n",
       "      <td>0.918458</td>\n",
       "      <td>0.224604</td>\n",
       "      <td>0.918750</td>\n",
       "    </tr>\n",
       "  </tbody>\n",
       "</table>\n",
       "</div>"
      ],
      "text/plain": [
       "        loss  accuracy  val_loss  val_accuracy\n",
       "11  0.234087  0.911625  0.232647      0.914417\n",
       "12  0.228156  0.915125  0.214072      0.921833\n",
       "13  0.224431  0.916625  0.250276      0.906917\n",
       "14  0.222601  0.916458  0.218978      0.919417\n",
       "15  0.217958  0.918458  0.224604      0.918750"
      ]
     },
     "execution_count": 20,
     "metadata": {},
     "output_type": "execute_result"
    }
   ],
   "source": [
    "df_hist = pd.DataFrame(history.history)\n",
    "df_hist.tail()"
   ]
  },
  {
   "cell_type": "code",
   "execution_count": 21,
   "id": "bc3c8933",
   "metadata": {},
   "outputs": [
    {
     "data": {
      "text/plain": [
       "<AxesSubplot:>"
      ]
     },
     "execution_count": 21,
     "metadata": {},
     "output_type": "execute_result"
    },
    {
     "data": {
      "image/png": "[encoded data removed]",
      "text/plain": [
       "<Figure size 1080x288 with 2 Axes>"
      ]
     },
     "metadata": {
      "needs_background": "light"
     },
     "output_type": "display_data"
    }
   ],
   "source": [
    "fig, axes = plt.subplots(1,2,figsize = (15,4))\n",
    "df_hist[['loss','val_loss']].plot(ax=axes[0])\n",
    "df_hist[['accuracy','val_accuracy']].plot(ax=axes[1])"
   ]
  },
  {
   "cell_type": "code",
   "execution_count": 22,
   "id": "2e4fbb1f",
   "metadata": {},
   "outputs": [
    {
     "name": "stdout",
     "output_type": "stream",
     "text": [
      "375/375 [==============================] - 1s 3ms/step - loss: 0.2246 - accuracy: 0.9187\n"
     ]
    },
    {
     "data": {
      "text/plain": [
       "[0.22460393607616425, 0.918749988079071]"
      ]
     },
     "execution_count": 22,
     "metadata": {},
     "output_type": "execute_result"
    }
   ],
   "source": [
    "model.evaluate(val_images,val_labels)"
   ]
  },
  {
   "cell_type": "code",
   "execution_count": 23,
   "id": "ff2d4710",
   "metadata": {},
   "outputs": [
    {
     "name": "stdout",
     "output_type": "stream",
     "text": [
      "1500/1500 [==============================] - 4s 3ms/step - loss: 0.1425 - accuracy: 0.9448\n"
     ]
    },
    {
     "data": {
      "text/plain": [
       "[0.14254426956176758, 0.9447708129882812]"
      ]
     },
     "execution_count": 23,
     "metadata": {},
     "output_type": "execute_result"
    }
   ],
   "source": [
    "model.evaluate(train_images,train_labels)"
   ]
  },
  {
   "cell_type": "markdown",
   "id": "2a891b88",
   "metadata": {},
   "source": [
    "### 모델을 이용하여 예측해보기"
   ]
  },
  {
   "cell_type": "markdown",
   "id": "bbc2d88b",
   "metadata": {},
   "source": [
    "**첫번째 이미지에 대하여 어떻게 예측하였는지 알아보자!**"
   ]
  },
  {
   "cell_type": "code",
   "execution_count": 24,
   "id": "86c2e6f0",
   "metadata": {},
   "outputs": [
    {
     "data": {
      "text/plain": [
       "(12000, 28, 28, 1)"
      ]
     },
     "execution_count": 24,
     "metadata": {},
     "output_type": "execute_result"
    }
   ],
   "source": [
    "val_images.shape"
   ]
  },
  {
   "cell_type": "code",
   "execution_count": 25,
   "id": "c50263e1",
   "metadata": {},
   "outputs": [
    {
     "data": {
      "image/png": "[encoded data removed]",
      "text/plain": [
       "<Figure size 432x288 with 1 Axes>"
      ]
     },
     "metadata": {
      "needs_background": "light"
     },
     "output_type": "display_data"
    }
   ],
   "source": [
    "_=plt.imshow(val_images[0].reshape(28,28), cmap = 'gray_r')"
   ]
  },
  {
   "cell_type": "code",
   "execution_count": 26,
   "id": "b0e06a95",
   "metadata": {},
   "outputs": [
    {
     "data": {
      "text/plain": [
       "array([[1.4841675e-18, 3.6091661e-32, 1.8813905e-23, 5.6870127e-24,\n",
       "        1.2721345e-22, 4.0937750e-19, 8.2770652e-20, 6.0973918e-23,\n",
       "        1.0000000e+00, 2.5502386e-24]], dtype=float32)"
      ]
     },
     "execution_count": 26,
     "metadata": {},
     "output_type": "execute_result"
    }
   ],
   "source": [
    "pred = model.predict(val_images[0:1])\n",
    "pred"
   ]
  },
  {
   "cell_type": "code",
   "execution_count": 27,
   "id": "285f04b3",
   "metadata": {},
   "outputs": [
    {
     "data": {
      "text/plain": [
       "<BarContainer object of 10 artists>"
      ]
     },
     "execution_count": 27,
     "metadata": {},
     "output_type": "execute_result"
    },
    {
     "data": {
      "image/png": "[encoded data removed]",
      "text/plain": [
       "<Figure size 432x288 with 1 Axes>"
      ]
     },
     "metadata": {
      "needs_background": "light"
     },
     "output_type": "display_data"
    }
   ],
   "source": [
    "plt.bar(range(1,11), pred[0])"
   ]
  },
  {
   "cell_type": "code",
   "execution_count": 28,
   "id": "64ace4b8",
   "metadata": {},
   "outputs": [],
   "source": [
    "# 각 클래스에 대한 이름을 설정해주기\n",
    "classes = ['T-shirt/top','Trouser','Pullover','Dress','Coat','Sandal','Shirt','Sneaker','Bag','Ankel boot']"
   ]
  },
  {
   "cell_type": "code",
   "execution_count": 29,
   "id": "776e7430",
   "metadata": {
    "scrolled": true
   },
   "outputs": [
    {
     "data": {
      "text/plain": [
       "'Bag'"
      ]
     },
     "execution_count": 29,
     "metadata": {},
     "output_type": "execute_result"
    }
   ],
   "source": [
    "# np.argmax는 최대값의 위치를 반환해주는 값이다.\n",
    "classes[np.argmax(pred)]"
   ]
  },
  {
   "cell_type": "markdown",
   "id": "7efb7f21",
   "metadata": {},
   "source": [
    " "
   ]
  },
  {
   "cell_type": "markdown",
   "id": "c02f4674",
   "metadata": {},
   "source": [
    "**test 데이터셋에 대한 예측을 해보자!**"
   ]
  },
  {
   "cell_type": "code",
   "execution_count": 30,
   "id": "9fb9d105",
   "metadata": {},
   "outputs": [],
   "source": [
    "# test 데이터 셋에 대하여 train 에서 해주었던거와 마찬가지로 scaling을 진행하도록 한다\n",
    "\n",
    "test_images= test_images.reshape(-1, 28, 28, 1) / 255\n"
   ]
  },
  {
   "cell_type": "code",
   "execution_count": 31,
   "id": "b6ccf715",
   "metadata": {},
   "outputs": [],
   "source": [
    "y_pred = model.predict(test_images)"
   ]
  },
  {
   "cell_type": "code",
   "execution_count": 32,
   "id": "cf3f89ff",
   "metadata": {},
   "outputs": [
    {
     "data": {
      "text/plain": [
       "array([9, 2, 1, ..., 8, 1, 5])"
      ]
     },
     "execution_count": 32,
     "metadata": {},
     "output_type": "execute_result"
    }
   ],
   "source": [
    "y_predict = np.argmax(y_pred, axis=1)\n",
    "y_predict"
   ]
  },
  {
   "cell_type": "code",
   "execution_count": 33,
   "id": "aee451bd",
   "metadata": {},
   "outputs": [
    {
     "data": {
      "text/plain": [
       "0.9149"
      ]
     },
     "execution_count": 33,
     "metadata": {},
     "output_type": "execute_result"
    }
   ],
   "source": [
    "accuracy = (y_predict == test_labels).mean()\n",
    "accuracy"
   ]
  }
 ],
 "metadata": {
  "kernelspec": {
   "display_name": "Python 3.8 (NGC 22.03 / TensorFlow 2.8) on Backend.AI",
   "language": "python",
   "name": "python3"
  },
  "language_info": {
   "codemirror_mode": {
    "name": "ipython",
    "version": 3
   },
   "file_extension": ".py",
   "mimetype": "text/x-python",
   "name": "python",
   "nbconvert_exporter": "python",
   "pygments_lexer": "ipython3",
   "version": "3.8.10"
  }
 },
 "nbformat": 4,
 "nbformat_minor": 5
}
